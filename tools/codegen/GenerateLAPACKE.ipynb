{
 "cells": [
  {
   "cell_type": "code",
   "execution_count": 1,
   "id": "e3c8201a-e101-41ff-a220-f6591cf82801",
   "metadata": {},
   "outputs": [],
   "source": [
    "import yaml\n",
    "import sys\n",
    "import os\n",
    "import datetime\n",
    "try:\n",
    "    from yaml import CLoader as Loader\n",
    "except:\n",
    "    from yaml import Loader\n",
    "import glob\n",
    "from tqdm import tqdm\n",
    "from tqdm.contrib.concurrent import process_map\n",
    "import shutil\n",
    "\n",
    "base = '../../'\n",
    "n_cores = os.cpu_count()\n",
    "\n",
    "def read_file(file_path): \n",
    "    with open(file_path, 'r') as file:\n",
    "        file_content = file.read()\n",
    "    return file_content \n",
    "\n",
    "def load_yaml(inp):\n",
    "    with open(inp,'r') as istream:\n",
    "        y =  yaml.load(istream, Loader=Loader)\n",
    "    return y\n"
   ]
  },
  {
   "cell_type": "code",
   "execution_count": 2,
   "id": "86db35b8-a854-4abc-93a2-6cacb8c4cfe8",
   "metadata": {},
   "outputs": [],
   "source": [
    "file_header = read_file('templates/implementation_header.tmpl')\n",
    "cblas_void_body = read_file('templates/lapacke_void_body.tmpl')\n",
    "cblas_altnames_void_body = read_file('templates/lapacke_altnames_void_body.tmpl')\n",
    "# cblas_function_body = read_file('templates/cblas_void.tmpl')\n",
    "cblas_function_body = read_file('templates/lapacke_function_body.tmpl')\n",
    "cblas_altnames_function_body = read_file('templates/lapacke_altnames_function_body.tmpl')\n",
    "void_hook_header = read_file('templates/cblas_subroutine_hook_header.tmpl')\n",
    "function_hook_header = read_file('templates/cblas_function_hook_header.tmpl')\n",
    "header_code_tmpl = read_file('templates/blas_header.tmpl')\n",
    "structure_tmpl = read_file('templates/lapacke_structure_template.tmpl')\n",
    "\n",
    "\n",
    "loader_function_body = \"\"\"\n",
    "HIDDEN int __flexiblas_load_lapacke( flexiblas_backend_t *backend )  {{\n",
    "    int failed = 0;\n",
    "\n",
    "    {body:s}\n",
    "    return failed;\n",
    "}}\n",
    "\"\"\"\n",
    "\n",
    "hook_loader_function_body = \"\"\"\n",
    "#ifdef FLEXIBLAS_HOOK_API\n",
    "HIDDEN int __flexiblas_load_lapacke_hooks ( flexiblas_hook_t *hooks, void *hook_handle)  {{\n",
    "\n",
    "{body:s}\n",
    "\n",
    "    return 0; \n",
    "}}\n",
    "#endif \n",
    "\"\"\"\n",
    "hook_loader_snippet = \"    LOAD_CHOOK(hooks,hook_handle,{name:s},{name:s});\"\n",
    "\n",
    "loader_snippet = \"\"\"\n",
    "    do {{\n",
    "        void *ptr_library = __flexiblas_lookup_cblas_function(backend->library_handle, {symbol_names:s}, NULL);\n",
    "        void *ptr_fallback = __flexiblas_lookup_cblas_function(__flexiblas_lapack_fallback, {symbol_names:s}, NULL);\n",
    "        if ( ptr_library == NULL && ptr_fallback == NULL ) {{\n",
    "            flexiblas_print_error(\"flexiblas\",__FILE__, __LINE__, \"Can not load {name:s}.\\\\n\");\n",
    "            failed++;\n",
    "            break;\n",
    "        }} \n",
    "        if ( ptr_library == NULL) {{\n",
    "            DPRINTF(2, \"Load {name:s} from internal fallback BLAS.\\\\n\");\n",
    "            backend->lapacke.{name:s} = ptr_fallback;\n",
    "        }} else {{\n",
    "            backend->lapacke.{name:s} = ptr_library;\n",
    "        }}\n",
    "    }} while(0);\n",
    "\"\"\"\n",
    "\n",
    "def generate_loader_snippet(y, fallback = False):\n",
    "    name = y[\"name\"]\n",
    "    load_name = y[\"load_name\"]\n",
    "    function_blas_name = \"_\".join(name.split(\"_\")[1:])\n",
    "    symbol_names = \"\\\"{}\\\"\".format(load_name[0])\n",
    "    symbol_names_api = \"\\\"{}_64\\\"\".format(load_name[0])\n",
    "    if len(load_name) > 1:\n",
    "        for k in range(1, len(load_name)):\n",
    "            symbol_names += \", \\\"{}\\\"\".format(load_name[k])\n",
    "            symbol_names_api += \", \\\"{}_64\\\"\".format(load_name[k])\n",
    "    if not fallback:\n",
    "        return loader_snippet.format(\n",
    "                                name = name, \n",
    "                                function_blas_name = function_blas_name,\n",
    "                                symbol_names = symbol_names, \n",
    "                                symbol_names_api = symbol_names_api) \n",
    "    else:\n",
    "         return loader_fallback_snippet.format(\n",
    "                                component = component,\n",
    "                                name = name, \n",
    "                                symbol_names = symbol_names, \n",
    "                                symbol_names_api = symbol_names_api) \n",
    "\n"
   ]
  },
  {
   "cell_type": "code",
   "execution_count": 3,
   "id": "9759e272-e115-422d-9844-45baa6ef130f",
   "metadata": {},
   "outputs": [],
   "source": [
    "def generate_file_header():\n",
    "    year = datetime.date.today().year\n",
    "    return file_header.format(year = year) + \"\\n#include \\\"lapacke.h\\\"\\n\""
   ]
  },
  {
   "cell_type": "code",
   "execution_count": 4,
   "id": "32752c40-961d-4b88-9bb9-d8490ee803aa",
   "metadata": {},
   "outputs": [],
   "source": [
    "def generate_subroutine(y, intel_interface = False, component = \"blas\"):\n",
    "    function_name = y['name'];\n",
    "    function_blas_name = \"_\".join(function_name.split(\"_\")[1:])\n",
    "    arg_list = \"\"\n",
    "    arg_list_void = \"\"\n",
    "    call_list = \"\"\n",
    "    cpx_function = False\n",
    "    function = False\n",
    "    return_type=\"void\"\n",
    "    body = cblas_void_body\n",
    "    alt_body = cblas_altnames_void_body\n",
    "    # header = subroutine_header\n",
    "    hook_header = void_hook_header\n",
    "    \n",
    "    if y[\"return_type\"] != \"void\":\n",
    "        body = cblas_function_body\n",
    "        alt_body = cblas_altnames_function_body\n",
    "        #header = function_header\n",
    "        hook_header = function_hook_header\n",
    "        function = True\n",
    "        return_type = y[\"return_type\"];\n",
    "        if return_type == \"int32_t\": \n",
    "            return_type = \"lapack_int\";            \n",
    "    h = \"\"       \n",
    "    \n",
    "    first = True;\n",
    "    for a in y['args']:\n",
    "        if not first:\n",
    "            arg_list += \", \"\n",
    "            arg_list_void += \", \"\n",
    "            call_list += \", \"\n",
    "        first = False\n",
    "        if len(a['quals']) > 0:\n",
    "            quals = \" \".join(a['quals']) + \" \"\n",
    "        else:\n",
    "            quals = \"\"\n",
    "        type_ = a['type']\n",
    "        if type_ == 'int':\n",
    "            type_ = 'int' \n",
    "        if type_ == \"float _Complex\":\n",
    "            type_ = 'lapack_complex_float'\n",
    "        if type_ == \"double _Complex\":\n",
    "            type_ = 'lapack_complex_double'            \n",
    "        if a['pointer']:\n",
    "            arg_list += quals+ type_ + \" *\" + a['name']\n",
    "            arg_list_void += quals + \"void *\" + a['name']\n",
    "            call_list += a['name']\n",
    "        else:\n",
    "            arg_list += quals + type_ + \" \" + a['name']\n",
    "            arg_list_void += quals + a['type'] + \" \" + a['name']\n",
    "            call_list += a['name']\n",
    "    if len(arg_list) == 0:\n",
    "        arg_list = \"void\"\n",
    "    if len(arg_list_void) == 0:\n",
    "        arg_list_void = \"void\"\n",
    " \n",
    "#    h += \"    \"+ header.format(\n",
    "#                      return_type = return_type,\n",
    "#                      function_name = function_name, \n",
    "#                      arg_list = arg_list, \n",
    "#                      component = component) + \"\\n\"\n",
    "    alt_names = \"\"\n",
    "    for alt in y[\"alt_names\"]:\n",
    "        alt_name = alt\n",
    "        ALT_NAME = alt.upper()\n",
    "        \n",
    "        alt_names += alt_body.format(\n",
    "                                    return_type = return_type,\n",
    "                                    function_name = alt_name, \n",
    "                                    function_blas_name = function_blas_name, \n",
    "                                    function_name_orig = function_name,\n",
    "                                    arg_list = arg_list,\n",
    "                                    arg_list_void = arg_list_void, \n",
    "                                    call_list = call_list, \n",
    "                                    component = component) + \"\\n\"\n",
    "#        h += \"    \" + header.format(\n",
    "#                      return_type = return_type,\n",
    "#                      function_name = alt_name, \n",
    "#                      FUNCTION_NAME = ALT_NAME, \n",
    "#                      arg_list = arg_list, \n",
    "#                      component = component) + \"\\n\"  \n",
    "    hook_header = hook_header.format(\n",
    "                      return_type = return_type,\n",
    "                      function_name = function_name, \n",
    "                      function_blas_name = function_blas_name, \n",
    "                      arg_list = arg_list,\n",
    "                      arg_list_void = arg_list_void, \n",
    "                      component = component)\n",
    " \n",
    "    return body.format(\n",
    "                      return_type = return_type,\n",
    "                      function_name = function_name,\n",
    "                      function_blas_name = function_blas_name, \n",
    "                      arg_list = arg_list,\n",
    "                      arg_list_void = arg_list_void, \n",
    "                      call_list = call_list,\n",
    "                      component = component) + alt_names, h, hook_header\n",
    "\n",
    "def generate_hook_loader_snippet(y):\n",
    "    name = y[\"name\"]\n",
    "    function_blas_name = \"_\".join(name.split(\"_\")[1:])\n",
    "    return hook_loader_snippet.format(name = name)\n"
   ]
  },
  {
   "cell_type": "code",
   "execution_count": 5,
   "id": "3f929ffb-b822-4965-8e16-78b67fb15e40",
   "metadata": {},
   "outputs": [],
   "source": [
    "def generate_all(inputs, outputs, ignore = list()):\n",
    "    fp = open(outputs[\"wrapper\"],'w')\n",
    "    fp.write(generate_file_header() + \"\\n\")\n",
    "    \n",
    "    loader_code = \"\"\n",
    "    hook_loader_code = \"\"\n",
    "    loader_fallback_code = \"\"\n",
    "    header_body = \"\" \n",
    "    hook_header_body =\"\"\n",
    "    \n",
    "    #r = process_map(load_yaml, inputs, max_workers = n_cores, chunksize=1)\n",
    "    r = load_yaml(inputs)\n",
    "    for y in tqdm(r):\n",
    "    #for r in inputs: \n",
    "        # y = load_yaml(r)\n",
    "        # print(\"Generate Code for {}.\".format(y[0]['name']))\n",
    "        name = y[\"name\"]\n",
    "        if name in ignore: \n",
    "            continue\n",
    "            \n",
    "        code, header, hook_header = generate_subroutine(y, intel_interface = False)\n",
    "        fp.write(code)\n",
    "      \n",
    "        loader_code += generate_loader_snippet(y) + \"\\n\\n\"\n",
    "        hook_loader_code += generate_hook_loader_snippet(y) + \"\\n\" ; \n",
    "        # if component == \"lapack\":\n",
    "        #    loader_fallback_code += generate_loader_snippet(y[0], component = component, fallback=True) + \"\\n\\n\"\n",
    "        header_body += header\n",
    "        hook_header_body += hook_header + '\\n'\n",
    "\n",
    "    fp.write(loader_function_body.format(body = loader_code)+\"\\n\\n\")\n",
    "    # if len(loader_fallback_code) > 1:\n",
    "    #    fp_gnu.write(loader_function_body.format(body = loader_fallback_code, component = component+\"_fallback\")+\"\\n\\n\")\n",
    "    #    fp_intel.write(loader_function_body.format(body = loader_fallback_code,component = component+\"_fallback\")+\"\\n\\n\")\n",
    "    fp.write(hook_loader_function_body.format(component = \"blas\", body = hook_loader_code)+\"\\n\\n\")\n",
    "    fp.close()\n",
    "    \n",
    "    # fp_header = open(outputs[\"header\"],'w')\n",
    "    # \n",
    "    # fp_header.write(header_code_tmpl.format(\n",
    "    #                    year = datetime.date.today().year, \n",
    "    #                    guard_name = outputs[\"header_guard\"], \n",
    "    #                    body = header_body))\n",
    "    # fp_header.close()\n",
    "\n",
    "    fp_hook_header = open (outputs[\"real_call_header\" ],'w')\n",
    "    fp_hook_header.write(header_code_tmpl.format(\n",
    "                        year = datetime.date.today().year, \n",
    "                        guard_name = outputs[\"real_call_header_guard\" ], \n",
    "                        body = hook_header_body))\n",
    "    fp_hook_header.close()\n",
    "\n"
   ]
  },
  {
   "cell_type": "code",
   "execution_count": 6,
   "id": "651d845c-91e7-4be8-8006-3c787e06c203",
   "metadata": {},
   "outputs": [
    {
     "name": "stdout",
     "output_type": "stream",
     "text": [
      "Generate LAPACKE Wrappers\n"
     ]
    },
    {
     "name": "stderr",
     "output_type": "stream",
     "text": [
      "100%|███████████████████████████████████████████████████████████████████████████████████████████████████████████████████████████████████████████████████| 2205/2205 [00:00<00:00, 7485.85it/s]\n"
     ]
    },
    {
     "name": "stdout",
     "output_type": "stream",
     "text": [
      "Generate Structure File for LAPACK 3.6.0\n"
     ]
    },
    {
     "name": "stderr",
     "output_type": "stream",
     "text": [
      "100%|█████████████████████████████████████████████████████████████████████████████████████████████████████████████████████████████████████████████████| 2205/2205 [00:00<00:00, 104925.41it/s]\n"
     ]
    },
    {
     "name": "stdout",
     "output_type": "stream",
     "text": [
      "Generate LAPACKE Wrappers\n"
     ]
    },
    {
     "name": "stderr",
     "output_type": "stream",
     "text": [
      "100%|███████████████████████████████████████████████████████████████████████████████████████████████████████████████████████████████████████████████████| 2205/2205 [00:00<00:00, 9328.80it/s]\n"
     ]
    },
    {
     "name": "stdout",
     "output_type": "stream",
     "text": [
      "Generate Structure File for LAPACK 3.6.0-wodprc\n"
     ]
    },
    {
     "name": "stderr",
     "output_type": "stream",
     "text": [
      "100%|█████████████████████████████████████████████████████████████████████████████████████████████████████████████████████████████████████████████████| 2205/2205 [00:00<00:00, 102685.15it/s]\n"
     ]
    },
    {
     "name": "stdout",
     "output_type": "stream",
     "text": [
      "Generate LAPACKE Wrappers\n"
     ]
    },
    {
     "name": "stderr",
     "output_type": "stream",
     "text": [
      "100%|███████████████████████████████████████████████████████████████████████████████████████████████████████████████████████████████████████████████████| 2205/2205 [00:00<00:00, 8241.67it/s]\n"
     ]
    },
    {
     "name": "stdout",
     "output_type": "stream",
     "text": [
      "Generate Structure File for LAPACK 3.6.1\n"
     ]
    },
    {
     "name": "stderr",
     "output_type": "stream",
     "text": [
      "100%|█████████████████████████████████████████████████████████████████████████████████████████████████████████████████████████████████████████████████| 2205/2205 [00:00<00:00, 107423.84it/s]\n"
     ]
    },
    {
     "name": "stdout",
     "output_type": "stream",
     "text": [
      "Generate LAPACKE Wrappers\n"
     ]
    },
    {
     "name": "stderr",
     "output_type": "stream",
     "text": [
      "100%|███████████████████████████████████████████████████████████████████████████████████████████████████████████████████████████████████████████████████| 2205/2205 [00:00<00:00, 5741.90it/s]\n"
     ]
    },
    {
     "name": "stdout",
     "output_type": "stream",
     "text": [
      "Generate Structure File for LAPACK 3.6.1-wodprc\n"
     ]
    },
    {
     "name": "stderr",
     "output_type": "stream",
     "text": [
      "100%|█████████████████████████████████████████████████████████████████████████████████████████████████████████████████████████████████████████████████| 2205/2205 [00:00<00:00, 199109.57it/s]\n"
     ]
    },
    {
     "name": "stdout",
     "output_type": "stream",
     "text": [
      "Generate LAPACKE Wrappers\n"
     ]
    },
    {
     "name": "stderr",
     "output_type": "stream",
     "text": [
      "100%|███████████████████████████████████████████████████████████████████████████████████████████████████████████████████████████████████████████████████| 2405/2405 [00:00<00:00, 6032.16it/s]\n"
     ]
    },
    {
     "name": "stdout",
     "output_type": "stream",
     "text": [
      "Generate Structure File for LAPACK 3.7.0\n"
     ]
    },
    {
     "name": "stderr",
     "output_type": "stream",
     "text": [
      "100%|██████████████████████████████████████████████████████████████████████████████████████████████████████████████████████████████████████████████████| 2405/2405 [00:00<00:00, 90358.05it/s]\n"
     ]
    },
    {
     "name": "stdout",
     "output_type": "stream",
     "text": [
      "Generate LAPACKE Wrappers\n"
     ]
    },
    {
     "name": "stderr",
     "output_type": "stream",
     "text": [
      "100%|███████████████████████████████████████████████████████████████████████████████████████████████████████████████████████████████████████████████████| 2405/2405 [00:00<00:00, 4666.73it/s]\n"
     ]
    },
    {
     "name": "stdout",
     "output_type": "stream",
     "text": [
      "Generate Structure File for LAPACK 3.7.0-wodprc\n"
     ]
    },
    {
     "name": "stderr",
     "output_type": "stream",
     "text": [
      "100%|██████████████████████████████████████████████████████████████████████████████████████████████████████████████████████████████████████████████████| 2405/2405 [00:00<00:00, 84706.02it/s]\n"
     ]
    },
    {
     "name": "stdout",
     "output_type": "stream",
     "text": [
      "Generate LAPACKE Wrappers\n"
     ]
    },
    {
     "name": "stderr",
     "output_type": "stream",
     "text": [
      "100%|███████████████████████████████████████████████████████████████████████████████████████████████████████████████████████████████████████████████████| 2413/2413 [00:00<00:00, 4332.49it/s]\n"
     ]
    },
    {
     "name": "stdout",
     "output_type": "stream",
     "text": [
      "Generate Structure File for LAPACK 3.7.1\n"
     ]
    },
    {
     "name": "stderr",
     "output_type": "stream",
     "text": [
      "100%|█████████████████████████████████████████████████████████████████████████████████████████████████████████████████████████████████████████████████| 2413/2413 [00:00<00:00, 127630.65it/s]\n"
     ]
    },
    {
     "name": "stdout",
     "output_type": "stream",
     "text": [
      "Generate LAPACKE Wrappers\n"
     ]
    },
    {
     "name": "stderr",
     "output_type": "stream",
     "text": [
      "100%|███████████████████████████████████████████████████████████████████████████████████████████████████████████████████████████████████████████████████| 2413/2413 [00:00<00:00, 5411.83it/s]\n"
     ]
    },
    {
     "name": "stdout",
     "output_type": "stream",
     "text": [
      "Generate Structure File for LAPACK 3.7.1-wodprc\n"
     ]
    },
    {
     "name": "stderr",
     "output_type": "stream",
     "text": [
      "100%|██████████████████████████████████████████████████████████████████████████████████████████████████████████████████████████████████████████████████| 2413/2413 [00:00<00:00, 56405.59it/s]\n"
     ]
    },
    {
     "name": "stdout",
     "output_type": "stream",
     "text": [
      "Generate LAPACKE Wrappers\n"
     ]
    },
    {
     "name": "stderr",
     "output_type": "stream",
     "text": [
      "100%|███████████████████████████████████████████████████████████████████████████████████████████████████████████████████████████████████████████████████| 2459/2459 [00:00<00:00, 4770.82it/s]\n"
     ]
    },
    {
     "name": "stdout",
     "output_type": "stream",
     "text": [
      "Generate Structure File for LAPACK 3.8.0\n"
     ]
    },
    {
     "name": "stderr",
     "output_type": "stream",
     "text": [
      "100%|██████████████████████████████████████████████████████████████████████████████████████████████████████████████████████████████████████████████████| 2459/2459 [00:00<00:00, 88033.95it/s]\n"
     ]
    },
    {
     "name": "stdout",
     "output_type": "stream",
     "text": [
      "Generate LAPACKE Wrappers\n"
     ]
    },
    {
     "name": "stderr",
     "output_type": "stream",
     "text": [
      "100%|███████████████████████████████████████████████████████████████████████████████████████████████████████████████████████████████████████████████████| 2459/2459 [00:00<00:00, 5871.19it/s]\n"
     ]
    },
    {
     "name": "stdout",
     "output_type": "stream",
     "text": [
      "Generate Structure File for LAPACK 3.8.0-wodprc\n"
     ]
    },
    {
     "name": "stderr",
     "output_type": "stream",
     "text": [
      "100%|█████████████████████████████████████████████████████████████████████████████████████████████████████████████████████████████████████████████████| 2459/2459 [00:00<00:00, 208980.07it/s]\n"
     ]
    },
    {
     "name": "stdout",
     "output_type": "stream",
     "text": [
      "Generate LAPACKE Wrappers\n"
     ]
    },
    {
     "name": "stderr",
     "output_type": "stream",
     "text": [
      "100%|███████████████████████████████████████████████████████████████████████████████████████████████████████████████████████████████████████████████████| 2467/2467 [00:00<00:00, 6689.78it/s]\n"
     ]
    },
    {
     "name": "stdout",
     "output_type": "stream",
     "text": [
      "Generate Structure File for LAPACK 3.9.0\n"
     ]
    },
    {
     "name": "stderr",
     "output_type": "stream",
     "text": [
      "100%|██████████████████████████████████████████████████████████████████████████████████████████████████████████████████████████████████████████████████| 2467/2467 [00:00<00:00, 95897.57it/s]\n"
     ]
    },
    {
     "name": "stdout",
     "output_type": "stream",
     "text": [
      "Generate LAPACKE Wrappers\n"
     ]
    },
    {
     "name": "stderr",
     "output_type": "stream",
     "text": [
      "100%|███████████████████████████████████████████████████████████████████████████████████████████████████████████████████████████████████████████████████| 2467/2467 [00:00<00:00, 6391.17it/s]\n"
     ]
    },
    {
     "name": "stdout",
     "output_type": "stream",
     "text": [
      "Generate Structure File for LAPACK 3.9.0-wodprc\n"
     ]
    },
    {
     "name": "stderr",
     "output_type": "stream",
     "text": [
      "100%|██████████████████████████████████████████████████████████████████████████████████████████████████████████████████████████████████████████████████| 2467/2467 [00:00<00:00, 88385.99it/s]\n"
     ]
    },
    {
     "name": "stdout",
     "output_type": "stream",
     "text": [
      "Generate LAPACKE Wrappers\n"
     ]
    },
    {
     "name": "stderr",
     "output_type": "stream",
     "text": [
      "100%|███████████████████████████████████████████████████████████████████████████████████████████████████████████████████████████████████████████████████| 2483/2483 [00:00<00:00, 6482.93it/s]\n"
     ]
    },
    {
     "name": "stdout",
     "output_type": "stream",
     "text": [
      "Generate Structure File for LAPACK 3.9.1\n"
     ]
    },
    {
     "name": "stderr",
     "output_type": "stream",
     "text": [
      "100%|█████████████████████████████████████████████████████████████████████████████████████████████████████████████████████████████████████████████████| 2483/2483 [00:00<00:00, 103942.92it/s]\n"
     ]
    },
    {
     "name": "stdout",
     "output_type": "stream",
     "text": [
      "Generate LAPACKE Wrappers\n"
     ]
    },
    {
     "name": "stderr",
     "output_type": "stream",
     "text": [
      "100%|███████████████████████████████████████████████████████████████████████████████████████████████████████████████████████████████████████████████████| 2483/2483 [00:00<00:00, 8539.37it/s]\n"
     ]
    },
    {
     "name": "stdout",
     "output_type": "stream",
     "text": [
      "Generate Structure File for LAPACK 3.9.1-wodprc\n"
     ]
    },
    {
     "name": "stderr",
     "output_type": "stream",
     "text": [
      "100%|█████████████████████████████████████████████████████████████████████████████████████████████████████████████████████████████████████████████████| 2483/2483 [00:00<00:00, 125315.34it/s]\n"
     ]
    },
    {
     "name": "stdout",
     "output_type": "stream",
     "text": [
      "Generate LAPACKE Wrappers\n"
     ]
    },
    {
     "name": "stderr",
     "output_type": "stream",
     "text": [
      "100%|███████████████████████████████████████████████████████████████████████████████████████████████████████████████████████████████████████████████████| 2483/2483 [00:00<00:00, 9505.20it/s]\n"
     ]
    },
    {
     "name": "stdout",
     "output_type": "stream",
     "text": [
      "Generate Structure File for LAPACK 3.10.0\n"
     ]
    },
    {
     "name": "stderr",
     "output_type": "stream",
     "text": [
      "100%|█████████████████████████████████████████████████████████████████████████████████████████████████████████████████████████████████████████████████| 2483/2483 [00:00<00:00, 145866.87it/s]\n"
     ]
    },
    {
     "name": "stdout",
     "output_type": "stream",
     "text": [
      "Generate LAPACKE Wrappers\n"
     ]
    },
    {
     "name": "stderr",
     "output_type": "stream",
     "text": [
      "100%|██████████████████████████████████████████████████████████████████████████████████████████████████████████████████████████████████████████████████| 2483/2483 [00:00<00:00, 10725.01it/s]\n"
     ]
    },
    {
     "name": "stdout",
     "output_type": "stream",
     "text": [
      "Generate Structure File for LAPACK 3.10.0-wodprc\n"
     ]
    },
    {
     "name": "stderr",
     "output_type": "stream",
     "text": [
      "100%|██████████████████████████████████████████████████████████████████████████████████████████████████████████████████████████████████████████████████| 2483/2483 [00:00<00:00, 76217.10it/s]\n"
     ]
    },
    {
     "name": "stdout",
     "output_type": "stream",
     "text": [
      "Generate LAPACKE Wrappers\n"
     ]
    },
    {
     "name": "stderr",
     "output_type": "stream",
     "text": [
      "100%|███████████████████████████████████████████████████████████████████████████████████████████████████████████████████████████████████████████████████| 2483/2483 [00:00<00:00, 4648.48it/s]\n"
     ]
    },
    {
     "name": "stdout",
     "output_type": "stream",
     "text": [
      "Generate Structure File for LAPACK 3.10.1\n"
     ]
    },
    {
     "name": "stderr",
     "output_type": "stream",
     "text": [
      "100%|█████████████████████████████████████████████████████████████████████████████████████████████████████████████████████████████████████████████████| 2483/2483 [00:00<00:00, 201303.89it/s]\n"
     ]
    },
    {
     "name": "stdout",
     "output_type": "stream",
     "text": [
      "Generate LAPACKE Wrappers\n"
     ]
    },
    {
     "name": "stderr",
     "output_type": "stream",
     "text": [
      "100%|███████████████████████████████████████████████████████████████████████████████████████████████████████████████████████████████████████████████████| 2483/2483 [00:00<00:00, 6336.60it/s]\n"
     ]
    },
    {
     "name": "stdout",
     "output_type": "stream",
     "text": [
      "Generate Structure File for LAPACK 3.10.1-wodprc\n"
     ]
    },
    {
     "name": "stderr",
     "output_type": "stream",
     "text": [
      "100%|█████████████████████████████████████████████████████████████████████████████████████████████████████████████████████████████████████████████████| 2483/2483 [00:00<00:00, 140384.94it/s]\n"
     ]
    },
    {
     "name": "stdout",
     "output_type": "stream",
     "text": [
      "Generate LAPACKE Wrappers\n"
     ]
    },
    {
     "name": "stderr",
     "output_type": "stream",
     "text": [
      "100%|███████████████████████████████████████████████████████████████████████████████████████████████████████████████████████████████████████████████████| 2498/2498 [00:00<00:00, 9445.21it/s]\n"
     ]
    },
    {
     "name": "stdout",
     "output_type": "stream",
     "text": [
      "Generate Structure File for LAPACK 3.11.0\n"
     ]
    },
    {
     "name": "stderr",
     "output_type": "stream",
     "text": [
      "100%|█████████████████████████████████████████████████████████████████████████████████████████████████████████████████████████████████████████████████| 2498/2498 [00:00<00:00, 218360.46it/s]\n"
     ]
    },
    {
     "name": "stdout",
     "output_type": "stream",
     "text": [
      "Generate LAPACKE Wrappers\n"
     ]
    },
    {
     "name": "stderr",
     "output_type": "stream",
     "text": [
      "100%|███████████████████████████████████████████████████████████████████████████████████████████████████████████████████████████████████████████████████| 2498/2498 [00:00<00:00, 9255.06it/s]\n"
     ]
    },
    {
     "name": "stdout",
     "output_type": "stream",
     "text": [
      "Generate Structure File for LAPACK 3.11.0-wodprc\n"
     ]
    },
    {
     "name": "stderr",
     "output_type": "stream",
     "text": [
      "100%|██████████████████████████████████████████████████████████████████████████████████████████████████████████████████████████████████████████████████| 2498/2498 [00:00<00:00, 55365.81it/s]\n"
     ]
    },
    {
     "name": "stdout",
     "output_type": "stream",
     "text": [
      "Generate LAPACKE Wrappers\n"
     ]
    },
    {
     "name": "stderr",
     "output_type": "stream",
     "text": [
      "100%|███████████████████████████████████████████████████████████████████████████████████████████████████████████████████████████████████████████████████| 2514/2514 [00:00<00:00, 7769.34it/s]\n"
     ]
    },
    {
     "name": "stdout",
     "output_type": "stream",
     "text": [
      "Generate Structure File for LAPACK 3.12.0\n"
     ]
    },
    {
     "name": "stderr",
     "output_type": "stream",
     "text": [
      "100%|█████████████████████████████████████████████████████████████████████████████████████████████████████████████████████████████████████████████████| 2514/2514 [00:00<00:00, 109732.03it/s]\n"
     ]
    },
    {
     "name": "stdout",
     "output_type": "stream",
     "text": [
      "Generate LAPACKE Wrappers\n"
     ]
    },
    {
     "name": "stderr",
     "output_type": "stream",
     "text": [
      "100%|██████████████████████████████████████████████████████████████████████████████████████████████████████████████████████████████████████████████████| 2514/2514 [00:00<00:00, 15323.41it/s]\n"
     ]
    },
    {
     "name": "stdout",
     "output_type": "stream",
     "text": [
      "Generate Structure File for LAPACK 3.12.0-wodprc\n"
     ]
    },
    {
     "name": "stderr",
     "output_type": "stream",
     "text": [
      "100%|█████████████████████████████████████████████████████████████████████████████████████████████████████████████████████████████████████████████████| 2514/2514 [00:00<00:00, 409892.33it/s]\n"
     ]
    },
    {
     "name": "stdout",
     "output_type": "stream",
     "text": [
      "Generate LAPACKE Wrappers\n"
     ]
    },
    {
     "name": "stderr",
     "output_type": "stream",
     "text": [
      "100%|██████████████████████████████████████████████████████████████████████████████████████████████████████████████████████████████████████████████████| 2514/2514 [00:00<00:00, 14081.18it/s]\n"
     ]
    },
    {
     "name": "stdout",
     "output_type": "stream",
     "text": [
      "Generate Structure File for LAPACK 3.12.1\n"
     ]
    },
    {
     "name": "stderr",
     "output_type": "stream",
     "text": [
      "100%|█████████████████████████████████████████████████████████████████████████████████████████████████████████████████████████████████████████████████| 2514/2514 [00:00<00:00, 116563.83it/s]\n"
     ]
    },
    {
     "name": "stdout",
     "output_type": "stream",
     "text": [
      "Generate LAPACKE Wrappers\n"
     ]
    },
    {
     "name": "stderr",
     "output_type": "stream",
     "text": [
      "100%|███████████████████████████████████████████████████████████████████████████████████████████████████████████████████████████████████████████████████| 2514/2514 [00:00<00:00, 9153.92it/s]\n"
     ]
    },
    {
     "name": "stdout",
     "output_type": "stream",
     "text": [
      "Generate Structure File for LAPACK 3.12.1-wodprc\n"
     ]
    },
    {
     "name": "stderr",
     "output_type": "stream",
     "text": [
      "100%|██████████████████████████████████████████████████████████████████████████████████████████████████████████████████████████████████████████████████| 2514/2514 [00:00<00:00, 96739.24it/s]\n"
     ]
    }
   ],
   "source": [
    "def generate_lapacke(inputdir, version, ignore = list()):\n",
    "    year = datetime.date.today().year\n",
    "    versionx = version.replace('.','_')\n",
    "    versionx = versionx.replace('-','_')\n",
    "    varr = version.split(\".\")\n",
    "    major = int(varr[0])\n",
    "    minor = int(varr[1])\n",
    "    varr2 = varr[2].split(\"-\")\n",
    "    patch = int(varr2[0])\n",
    "    extra = \"\"\n",
    "    # Generate BLAS \n",
    "    inputs = inputdir+'/'+version+'.yaml'\n",
    "\n",
    "    try:\n",
    "        ignore_file = load_yaml(inputdir+'/ignore-'+version+'.yaml')\n",
    "        ignore = ignore_file[\"ignore\"]\n",
    "    except:\n",
    "        print(\"Failed to load ignore\")\n",
    "        ignore = list()\n",
    "    \n",
    "    \n",
    "    outputs = dict()\n",
    "    outputs[\"wrapper\"] = base + '/src/lapacke/wrapper_lapacke_'+versionx+'.c'\n",
    "    outputs[\"header\"] = base + '/include/lapacke_'+versionx+'.h'\n",
    "    outputs[\"header_guard\"] = \"LAPACKE_H\"\n",
    "    outputs[\"real_call_header\" ] = base + '/src/lapacke/flexiblas_real_lapacke_'+versionx+'.h'\n",
    "    outputs[\"real_call_header_guard\" ] = \"FLEXIBLAS_REAL_LAPACKE_CALLS_H\"\n",
    "    print(\"Generate LAPACKE Wrappers\")\n",
    "    generate_all(inputs, outputs, ignore)\n",
    "\n",
    "    struct_code = \"\"\n",
    "    struct_template = \"    void *{function_name:s};\\n\"\n",
    "    print(\"Generate Structure File for LAPACK {:s}\".format(version))\n",
    "    # r = process_map(load_yaml, inputs, max_workers = n_cores, chunksize=1)\n",
    "    r = load_yaml(inputs)\n",
    "    dummy_loader_code = \"\"; \n",
    "    for y in tqdm(r):\n",
    "        name = y[\"name\"]\n",
    "        if name in ignore:\n",
    "            continue\n",
    "        struct_code += struct_template.format(function_name = y['name'])\n",
    "        \n",
    "    fp = open(base + 'src/lapacke/structure_lapacke_'+versionx +'.h', 'w')\n",
    "    fp.write(structure_tmpl.format(lapack_major = major, \n",
    "                                   lapack_minor = minor, \n",
    "                                   lapack_patch = patch, \n",
    "                                   lapack_extra = extra, \n",
    "                                   body = struct_code,\n",
    "                                   year = year,\n",
    "                                   guard_name = \"LAPACKE_STRUCTURE_H\"))\n",
    "    fp.close()\n",
    "    if os.path.exists('./lapacke/'+version+'/lapack.h'):\n",
    "        shutil.copyfile('./lapacke/'+version+'/lapack.h', base + 'src/lapacke/include/lapack_'+versionx+'.h')\n",
    "    if os.path.exists('./lapacke/'+version+'/lapacke.h'):\n",
    "        shutil.copyfile('./lapacke/'+version+'/lapacke.h', base + 'src/lapacke/include/lapacke_'+versionx+'.h')\n",
    "    if os.path.exists('./lapacke/'+version+'/lapacke_64.h'):\n",
    "        shutil.copyfile('./lapacke/'+version+'/lapacke_64.h', base + 'src/lapacke/include/lapacke_64_'+versionx+'.h')\n",
    "    if os.path.exists('./lapacke/'+version+'/lapacke_config.h'):\n",
    "        shutil.copyfile('./lapacke/'+version+'/lapacke_config.h', base + 'src/lapacke/include/lapacke_config_'+versionx+'.h')        \n",
    "    if os.path.exists('./lapacke/'+version+'/lapacke_utils.h'):\n",
    "        shutil.copyfile('./lapacke/'+version+'/lapacke_config.h', base + 'src/lapacke/include/lapacke_utils_'+versionx+'.h')        \n",
    "        \n",
    "generate_lapacke('./lapacke/yaml/','3.6.0')\n",
    "generate_lapacke('./lapacke/yaml/','3.6.0-wodprc')\n",
    "generate_lapacke('./lapacke/yaml/','3.6.1')\n",
    "generate_lapacke('./lapacke/yaml/','3.6.1-wodprc')\n",
    "generate_lapacke('./lapacke/yaml/','3.7.0')\n",
    "generate_lapacke('./lapacke/yaml/','3.7.0-wodprc')\n",
    "generate_lapacke('./lapacke/yaml/','3.7.1')\n",
    "generate_lapacke('./lapacke/yaml/','3.7.1-wodprc')\n",
    "generate_lapacke('./lapacke/yaml/','3.8.0')\n",
    "generate_lapacke('./lapacke/yaml/','3.8.0-wodprc')\n",
    "generate_lapacke('./lapacke/yaml/','3.9.0')\n",
    "generate_lapacke('./lapacke/yaml/','3.9.0-wodprc')\n",
    "generate_lapacke('./lapacke/yaml/','3.9.1')\n",
    "generate_lapacke('./lapacke/yaml/','3.9.1-wodprc')\n",
    "generate_lapacke('./lapacke/yaml/','3.10.0')\n",
    "generate_lapacke('./lapacke/yaml/','3.10.0-wodprc')\n",
    "generate_lapacke('./lapacke/yaml/','3.10.1')\n",
    "generate_lapacke('./lapacke/yaml/','3.10.1-wodprc')\n",
    "generate_lapacke('./lapacke/yaml/','3.11.0')\n",
    "generate_lapacke('./lapacke/yaml/','3.11.0-wodprc')\n",
    "generate_lapacke('./lapacke/yaml/','3.12.0')\n",
    "generate_lapacke('./lapacke/yaml/','3.12.0-wodprc')\n",
    "generate_lapacke('./lapacke/yaml/','3.12.1')\n",
    "generate_lapacke('./lapacke/yaml/','3.12.1-wodprc')"
   ]
  },
  {
   "cell_type": "code",
   "execution_count": null,
   "id": "20c2a1c8-4542-4f40-aa21-18cc6bd73a3e",
   "metadata": {},
   "outputs": [],
   "source": []
  }
 ],
 "metadata": {
  "kernelspec": {
   "display_name": "Python 3 (ipykernel)",
   "language": "python",
   "name": "python3"
  },
  "language_info": {
   "codemirror_mode": {
    "name": "ipython",
    "version": 3
   },
   "file_extension": ".py",
   "mimetype": "text/x-python",
   "name": "python",
   "nbconvert_exporter": "python",
   "pygments_lexer": "ipython3",
   "version": "3.8.10"
  }
 },
 "nbformat": 4,
 "nbformat_minor": 5
}
