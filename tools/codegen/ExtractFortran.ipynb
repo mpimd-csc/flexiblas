{
 "cells": [
  {
   "cell_type": "code",
   "execution_count": 1,
   "id": "e3076fef-6183-46b9-9da2-ab655dd9f67a",
   "metadata": {},
   "outputs": [
    {
     "name": "stdout",
     "output_type": "stream",
     "text": [
      "Generate YAML inputs for blas/yaml\n"
     ]
    },
    {
     "data": {
      "application/vnd.jupyter.widget-view+json": {
       "model_id": "bc994740d64c4e3aa3b53da9983a79f6",
       "version_major": 2,
       "version_minor": 0
      },
      "text/plain": [
       "  0%|          | 0/168 [00:00<?, ?it/s]"
      ]
     },
     "metadata": {},
     "output_type": "display_data"
    },
    {
     "name": "stdout",
     "output_type": "stream",
     "text": [
      "Generate YAML inputs for lapack/yaml/3.3.0\n"
     ]
    },
    {
     "data": {
      "application/vnd.jupyter.widget-view+json": {
       "model_id": "83568df13651466d840e51968ecad1a7",
       "version_major": 2,
       "version_minor": 0
      },
      "text/plain": [
       "  0%|          | 0/1632 [00:00<?, ?it/s]"
      ]
     },
     "metadata": {},
     "output_type": "display_data"
    },
    {
     "name": "stdout",
     "output_type": "stream",
     "text": [
      "Generate YAML inputs for lapack/yaml/3.3.1\n"
     ]
    },
    {
     "data": {
      "application/vnd.jupyter.widget-view+json": {
       "model_id": "a4ba3439523d47a9bd78f783dc13ad11",
       "version_major": 2,
       "version_minor": 0
      },
      "text/plain": [
       "  0%|          | 0/1638 [00:00<?, ?it/s]"
      ]
     },
     "metadata": {},
     "output_type": "display_data"
    },
    {
     "name": "stdout",
     "output_type": "stream",
     "text": [
      "Generate YAML inputs for lapack/yaml/3.4.0\n"
     ]
    },
    {
     "data": {
      "application/vnd.jupyter.widget-view+json": {
       "model_id": "d205c3385163410e9cf66be6e61e6b0a",
       "version_major": 2,
       "version_minor": 0
      },
      "text/plain": [
       "  0%|          | 0/1670 [00:00<?, ?it/s]"
      ]
     },
     "metadata": {},
     "output_type": "display_data"
    },
    {
     "name": "stdout",
     "output_type": "stream",
     "text": [
      "Generate YAML inputs for lapack/yaml/3.4.1\n"
     ]
    },
    {
     "data": {
      "application/vnd.jupyter.widget-view+json": {
       "model_id": "32d837971f9843b6995d1cc4c2607285",
       "version_major": 2,
       "version_minor": 0
      },
      "text/plain": [
       "  0%|          | 0/1670 [00:00<?, ?it/s]"
      ]
     },
     "metadata": {},
     "output_type": "display_data"
    },
    {
     "name": "stdout",
     "output_type": "stream",
     "text": [
      "Generate YAML inputs for lapack/yaml/3.4.2\n"
     ]
    },
    {
     "data": {
      "application/vnd.jupyter.widget-view+json": {
       "model_id": "0ed9f4bd32654c949557717bc7b85cb0",
       "version_major": 2,
       "version_minor": 0
      },
      "text/plain": [
       "  0%|          | 0/1670 [00:00<?, ?it/s]"
      ]
     },
     "metadata": {},
     "output_type": "display_data"
    },
    {
     "name": "stdout",
     "output_type": "stream",
     "text": [
      "Generate YAML inputs for lapack/yaml/3.5.0\n"
     ]
    },
    {
     "data": {
      "application/vnd.jupyter.widget-view+json": {
       "model_id": "f75d655ed7254472a28e3d3ecd59521b",
       "version_major": 2,
       "version_minor": 0
      },
      "text/plain": [
       "  0%|          | 0/1740 [00:00<?, ?it/s]"
      ]
     },
     "metadata": {},
     "output_type": "display_data"
    },
    {
     "name": "stdout",
     "output_type": "stream",
     "text": [
      "Generate YAML inputs for lapack/yaml/3.6.0\n"
     ]
    },
    {
     "data": {
      "application/vnd.jupyter.widget-view+json": {
       "model_id": "47df2011b1404df3a7aa0e5091366a4a",
       "version_major": 2,
       "version_minor": 0
      },
      "text/plain": [
       "  0%|          | 0/1786 [00:00<?, ?it/s]"
      ]
     },
     "metadata": {},
     "output_type": "display_data"
    },
    {
     "name": "stdout",
     "output_type": "stream",
     "text": [
      "Generate YAML inputs for lapack/yaml/3.6.0-wodprc\n"
     ]
    },
    {
     "data": {
      "application/vnd.jupyter.widget-view+json": {
       "model_id": "0ade2d256a444ed39ef0d7068360d573",
       "version_major": 2,
       "version_minor": 0
      },
      "text/plain": [
       "  0%|          | 0/1750 [00:00<?, ?it/s]"
      ]
     },
     "metadata": {},
     "output_type": "display_data"
    },
    {
     "name": "stdout",
     "output_type": "stream",
     "text": [
      "Generate YAML inputs for lapack/yaml/3.6.1\n"
     ]
    },
    {
     "data": {
      "application/vnd.jupyter.widget-view+json": {
       "model_id": "de5d6a4726084eabbb677c181e8d06b7",
       "version_major": 2,
       "version_minor": 0
      },
      "text/plain": [
       "  0%|          | 0/1790 [00:00<?, ?it/s]"
      ]
     },
     "metadata": {},
     "output_type": "display_data"
    },
    {
     "name": "stdout",
     "output_type": "stream",
     "text": [
      "Generate YAML inputs for lapack/yaml/3.6.1-wodprc\n"
     ]
    },
    {
     "data": {
      "application/vnd.jupyter.widget-view+json": {
       "model_id": "7eca7ad841724073af9f9bc2be9bdc71",
       "version_major": 2,
       "version_minor": 0
      },
      "text/plain": [
       "  0%|          | 0/1754 [00:00<?, ?it/s]"
      ]
     },
     "metadata": {},
     "output_type": "display_data"
    },
    {
     "name": "stdout",
     "output_type": "stream",
     "text": [
      "Generate YAML inputs for lapack/yaml/3.7.0\n"
     ]
    },
    {
     "data": {
      "application/vnd.jupyter.widget-view+json": {
       "model_id": "7bba751821e744d597dee3531d9db43c",
       "version_major": 2,
       "version_minor": 0
      },
      "text/plain": [
       "  0%|          | 0/1983 [00:00<?, ?it/s]"
      ]
     },
     "metadata": {},
     "output_type": "display_data"
    },
    {
     "name": "stdout",
     "output_type": "stream",
     "text": [
      "Generate YAML inputs for lapack/yaml/3.7.0-wodprc\n"
     ]
    },
    {
     "data": {
      "application/vnd.jupyter.widget-view+json": {
       "model_id": "401754e382b246b7af08e542b90c637f",
       "version_major": 2,
       "version_minor": 0
      },
      "text/plain": [
       "  0%|          | 0/1947 [00:00<?, ?it/s]"
      ]
     },
     "metadata": {},
     "output_type": "display_data"
    },
    {
     "name": "stdout",
     "output_type": "stream",
     "text": [
      "Generate YAML inputs for lapack/yaml/3.7.1\n"
     ]
    },
    {
     "data": {
      "application/vnd.jupyter.widget-view+json": {
       "model_id": "488eb8e8e6b64f95b99a452cbc536918",
       "version_major": 2,
       "version_minor": 0
      },
      "text/plain": [
       "  0%|          | 0/1983 [00:00<?, ?it/s]"
      ]
     },
     "metadata": {},
     "output_type": "display_data"
    },
    {
     "name": "stdout",
     "output_type": "stream",
     "text": [
      "Generate YAML inputs for lapack/yaml/3.7.1-wodprc\n"
     ]
    },
    {
     "data": {
      "application/vnd.jupyter.widget-view+json": {
       "model_id": "db61502cfe5e4ca78a9bcdd718cc5d7b",
       "version_major": 2,
       "version_minor": 0
      },
      "text/plain": [
       "  0%|          | 0/1947 [00:00<?, ?it/s]"
      ]
     },
     "metadata": {},
     "output_type": "display_data"
    },
    {
     "name": "stdout",
     "output_type": "stream",
     "text": [
      "Generate YAML inputs for lapack/yaml/3.8.0\n"
     ]
    },
    {
     "data": {
      "application/vnd.jupyter.widget-view+json": {
       "model_id": "db5dcbc97fb343f9be20d9a7b6a95b13",
       "version_major": 2,
       "version_minor": 0
      },
      "text/plain": [
       "  0%|          | 0/2002 [00:00<?, ?it/s]"
      ]
     },
     "metadata": {},
     "output_type": "display_data"
    },
    {
     "name": "stdout",
     "output_type": "stream",
     "text": [
      "Generate YAML inputs for lapack/yaml/3.8.0-wodprc\n"
     ]
    },
    {
     "data": {
      "application/vnd.jupyter.widget-view+json": {
       "model_id": "5c8c0400da2f4592b1f94385758e1231",
       "version_major": 2,
       "version_minor": 0
      },
      "text/plain": [
       "  0%|          | 0/1966 [00:00<?, ?it/s]"
      ]
     },
     "metadata": {},
     "output_type": "display_data"
    },
    {
     "name": "stdout",
     "output_type": "stream",
     "text": [
      "Generate YAML inputs for lapack/yaml/3.9.0\n"
     ]
    },
    {
     "data": {
      "application/vnd.jupyter.widget-view+json": {
       "model_id": "6c394f80945842a89b0be923f0106751",
       "version_major": 2,
       "version_minor": 0
      },
      "text/plain": [
       "  0%|          | 0/2024 [00:00<?, ?it/s]"
      ]
     },
     "metadata": {},
     "output_type": "display_data"
    },
    {
     "name": "stdout",
     "output_type": "stream",
     "text": [
      "Generate YAML inputs for lapack/yaml/3.9.0-wodprc\n"
     ]
    },
    {
     "data": {
      "application/vnd.jupyter.widget-view+json": {
       "model_id": "e0aac12d0c2d4a7e951259fae6d1d55e",
       "version_major": 2,
       "version_minor": 0
      },
      "text/plain": [
       "  0%|          | 0/1988 [00:00<?, ?it/s]"
      ]
     },
     "metadata": {},
     "output_type": "display_data"
    },
    {
     "name": "stdout",
     "output_type": "stream",
     "text": [
      "Generate YAML inputs for lapack/yaml/3.9.1\n"
     ]
    },
    {
     "data": {
      "application/vnd.jupyter.widget-view+json": {
       "model_id": "16d63a8744834472b7b32c218dc048ae",
       "version_major": 2,
       "version_minor": 0
      },
      "text/plain": [
       "  0%|          | 0/2036 [00:00<?, ?it/s]"
      ]
     },
     "metadata": {},
     "output_type": "display_data"
    },
    {
     "name": "stdout",
     "output_type": "stream",
     "text": [
      "Generate YAML inputs for lapack/yaml/3.9.1-wodprc\n"
     ]
    },
    {
     "data": {
      "application/vnd.jupyter.widget-view+json": {
       "model_id": "ba810fa78a9e4c9aac9cff552868dd6a",
       "version_major": 2,
       "version_minor": 0
      },
      "text/plain": [
       "  0%|          | 0/2000 [00:00<?, ?it/s]"
      ]
     },
     "metadata": {},
     "output_type": "display_data"
    },
    {
     "name": "stdout",
     "output_type": "stream",
     "text": [
      "Generate YAML inputs for lapack/yaml/3.10.0\n"
     ]
    },
    {
     "data": {
      "application/vnd.jupyter.widget-view+json": {
       "model_id": "be2a61d17da2498f9b824ecd8002edba",
       "version_major": 2,
       "version_minor": 0
      },
      "text/plain": [
       "  0%|          | 0/2054 [00:00<?, ?it/s]"
      ]
     },
     "metadata": {},
     "output_type": "display_data"
    },
    {
     "name": "stdout",
     "output_type": "stream",
     "text": [
      "Generate YAML inputs for lapack/yaml/3.10.0-wodprc\n"
     ]
    },
    {
     "data": {
      "application/vnd.jupyter.widget-view+json": {
       "model_id": "49de2615aea14ec699254b99034bab47",
       "version_major": 2,
       "version_minor": 0
      },
      "text/plain": [
       "  0%|          | 0/2018 [00:00<?, ?it/s]"
      ]
     },
     "metadata": {},
     "output_type": "display_data"
    },
    {
     "name": "stdout",
     "output_type": "stream",
     "text": [
      "Generate YAML inputs for lapack/yaml/3.10.1\n"
     ]
    },
    {
     "data": {
      "application/vnd.jupyter.widget-view+json": {
       "model_id": "9ed5ebc28c8a401eb283d8e5b8ece4fd",
       "version_major": 2,
       "version_minor": 0
      },
      "text/plain": [
       "  0%|          | 0/2054 [00:00<?, ?it/s]"
      ]
     },
     "metadata": {},
     "output_type": "display_data"
    },
    {
     "name": "stdout",
     "output_type": "stream",
     "text": [
      "Generate YAML inputs for lapack/yaml/3.10.1-wodprc\n"
     ]
    },
    {
     "data": {
      "application/vnd.jupyter.widget-view+json": {
       "model_id": "5a243e72fa5c4b61b4f320673f0f599b",
       "version_major": 2,
       "version_minor": 0
      },
      "text/plain": [
       "  0%|          | 0/2018 [00:00<?, ?it/s]"
      ]
     },
     "metadata": {},
     "output_type": "display_data"
    },
    {
     "name": "stdout",
     "output_type": "stream",
     "text": [
      "Generate YAML inputs for lapack/yaml/3.11.0\n"
     ]
    },
    {
     "data": {
      "application/vnd.jupyter.widget-view+json": {
       "model_id": "4b6ef2aa64eb40a8821719dda7525c31",
       "version_major": 2,
       "version_minor": 0
      },
      "text/plain": [
       "  0%|          | 0/2068 [00:00<?, ?it/s]"
      ]
     },
     "metadata": {},
     "output_type": "display_data"
    },
    {
     "name": "stdout",
     "output_type": "stream",
     "text": [
      "Generate YAML inputs for lapack/yaml/3.11.0-wodprc\n"
     ]
    },
    {
     "data": {
      "application/vnd.jupyter.widget-view+json": {
       "model_id": "f67aa5ba369940de8f3067b3e85e0563",
       "version_major": 2,
       "version_minor": 0
      },
      "text/plain": [
       "  0%|          | 0/2032 [00:00<?, ?it/s]"
      ]
     },
     "metadata": {},
     "output_type": "display_data"
    },
    {
     "name": "stdout",
     "output_type": "stream",
     "text": [
      "Generate YAML inputs for lapack/yaml/3.12.0\n"
     ]
    },
    {
     "data": {
      "application/vnd.jupyter.widget-view+json": {
       "model_id": "bdd2aa7b8c4a4248ac9c388635c95c68",
       "version_major": 2,
       "version_minor": 0
      },
      "text/plain": [
       "  0%|          | 0/2098 [00:00<?, ?it/s]"
      ]
     },
     "metadata": {},
     "output_type": "display_data"
    },
    {
     "name": "stdout",
     "output_type": "stream",
     "text": [
      "Generate YAML inputs for lapack/yaml/3.12.0-wodprc\n"
     ]
    },
    {
     "data": {
      "application/vnd.jupyter.widget-view+json": {
       "model_id": "a9296ea3cce04882a52fadf98fc64459",
       "version_major": 2,
       "version_minor": 0
      },
      "text/plain": [
       "  0%|          | 0/2054 [00:00<?, ?it/s]"
      ]
     },
     "metadata": {},
     "output_type": "display_data"
    },
    {
     "name": "stdout",
     "output_type": "stream",
     "text": [
      "Generate YAML inputs for lapack/yaml/3.12.1\n"
     ]
    },
    {
     "data": {
      "application/vnd.jupyter.widget-view+json": {
       "model_id": "324087011d424d2d950b334bb466dfbe",
       "version_major": 2,
       "version_minor": 0
      },
      "text/plain": [
       "  0%|          | 0/2106 [00:00<?, ?it/s]"
      ]
     },
     "metadata": {},
     "output_type": "display_data"
    },
    {
     "name": "stdout",
     "output_type": "stream",
     "text": [
      "Generate YAML inputs for lapack/yaml/3.12.1-wodprc\n"
     ]
    },
    {
     "data": {
      "application/vnd.jupyter.widget-view+json": {
       "model_id": "9d0c0e02ace64ad58c018282b6080f23",
       "version_major": 2,
       "version_minor": 0
      },
      "text/plain": [
       "  0%|          | 0/2062 [00:00<?, ?it/s]"
      ]
     },
     "metadata": {},
     "output_type": "display_data"
    }
   ],
   "source": [
    "#!/usr/bin/env python\n",
    "# coding: utf-8\n",
    "\n",
    "from pycparser import c_ast, parse_file\n",
    "from pycparser.c_ast import PtrDecl\n",
    "import yaml\n",
    "import sys\n",
    "import glob\n",
    "import os\n",
    "from tqdm import tqdm\n",
    "from tqdm.contrib.concurrent import process_map\n",
    "\n",
    "class FuncDeclVisitor(c_ast.NodeVisitor):\n",
    "    def __init__(self):\n",
    "        self.funcs = list()\n",
    "        super().__init__()\n",
    "\n",
    "    def visit_FuncDecl(self, node):\n",
    "        function = dict()\n",
    "        # print('Found function/subroutine %s' % (node.type.declname[:-1]))\n",
    "        if node.type.declname.endswith(\"_\"):\n",
    "            function['name'] = node.type.declname[:-1]\n",
    "        else:\n",
    "            function['name'] = node.type.declname\n",
    "        if function['name'] == 'dcabs1':\n",
    "            return dict()\n",
    "        if function['name'] == 'scabs1':\n",
    "            return dict()\n",
    "        function['load_name'] = list()\n",
    "        function['load_name'].append(node.type.declname[:-1])\n",
    "        function['alt_names'] = list()        \n",
    "        # adjust gemmtr\n",
    "        if function['name'] == 'cgemmtr':\n",
    "            function['load_name'].append('cgemmt')\n",
    "            function['alt_names'].append('cgemmt')\n",
    "        if function['name'] == 'dgemmtr':\n",
    "            function['load_name'].append('dgemmt')\n",
    "            function['alt_names'].append('dgemmt')\n",
    "        if function['name'] == 'sgemmtr':\n",
    "            function['load_name'].append('sgemmt')\n",
    "            function['alt_names'].append('sgemmt')\n",
    "        if function['name'] == 'zgemmtr':\n",
    "            function['load_name'].append('zgemmt')\n",
    "            function['alt_names'].append('zgemmt')\n",
    "            \n",
    "\n",
    "        function['return_type'] = \" \".join(node.type.type.names)\n",
    "        if len(node.type.type.names) > 1 and node.type.type.names[1] == \"_Complex\":\n",
    "            function['return_type_complex'] = True\n",
    "            function['return_base_type'] = node.type.type.names[0]\n",
    "        args = list()\n",
    "        if hasattr(node, 'args') and hasattr(node.args,'params'):\n",
    "            for a in node.args.params:\n",
    "                arg = dict()\n",
    "                arg['name'] = a.name\n",
    "                arg['complex'] = False\n",
    "                if isinstance(a.type,PtrDecl):\n",
    "                    arg['type'] = \" \".join(a.type.type.type.names)\n",
    "                    if len(a.type.type.type.names) > 1  and a.type.type.type.names[1] == \"_Complex\":\n",
    "                        arg['complex'] = True\n",
    "                        arg['base_type'] = a.type.type.type.names[0]\n",
    "                    elif arg['type'] == \"int_least32_t\":\n",
    "                        arg['type'] = 'blaslogical'\n",
    "                    arg['pointer'] = True\n",
    "                    arg[\"hidden_str_len\"] = False\n",
    "                else:\n",
    "                    arg['type'] = \" \".join(a.type.type.names)\n",
    "                    arg['pointer'] = False\n",
    "                    if a.name.endswith(\"_len\") and a.type.type.names[0] == \"size_t\":\n",
    "                        arg[\"hidden_str_len\"] = True\n",
    "                        arg[\"type\"] = \"flexiblas_fortran_charlen_t\"\n",
    "                    else:\n",
    "                        arg[\"hidden_str_len\"] = False\n",
    "                args.append(arg)\n",
    "        function['args'] = args\n",
    "        if len(function)  > 0:\n",
    "            self.funcs.append(function)\n",
    "\n",
    "\n",
    "gen_list = dict()\n",
    "gen_list['blas/yaml'] = './blas/inputs/*.h'\n",
    "gen_list['lapack/yaml/3.3.0'] = './lapack/inputs/3.3.0/*.h'\n",
    "gen_list['lapack/yaml/3.3.1'] = './lapack/inputs/3.3.1/*.h'\n",
    "gen_list['lapack/yaml/3.4.0'] = './lapack/inputs/3.4.0/*.h'\n",
    "gen_list['lapack/yaml/3.4.1'] = './lapack/inputs/3.4.1/*.h'\n",
    "gen_list['lapack/yaml/3.4.2'] = './lapack/inputs/3.4.2/*.h'\n",
    "gen_list['lapack/yaml/3.5.0'] = './lapack/inputs/3.5.0/*.h'\n",
    "gen_list['lapack/yaml/3.6.0'] = './lapack/inputs/3.6.0/*.h'\n",
    "gen_list['lapack/yaml/3.6.0-wodprc'] = './lapack/inputs/3.6.0-wodprc/*.h'\n",
    "gen_list['lapack/yaml/3.6.1'] = './lapack/inputs/3.6.1/*.h'\n",
    "gen_list['lapack/yaml/3.6.1-wodprc'] = './lapack/inputs/3.6.1-wodprc/*.h'\n",
    "gen_list['lapack/yaml/3.7.0'] = './lapack/inputs/3.7.0/*.h'\n",
    "gen_list['lapack/yaml/3.7.0-wodprc'] = './lapack/inputs/3.7.0-wodprc/*.h'\n",
    "gen_list['lapack/yaml/3.7.1'] = './lapack/inputs/3.7.1/*.h'\n",
    "gen_list['lapack/yaml/3.7.1-wodprc'] = './lapack/inputs/3.7.1-wodprc/*.h'\n",
    "gen_list['lapack/yaml/3.8.0'] = './lapack/inputs/3.8.0/*.h'\n",
    "gen_list['lapack/yaml/3.8.0-wodprc'] = './lapack/inputs/3.8.0-wodprc/*.h'\n",
    "gen_list['lapack/yaml/3.9.0'] = './lapack/inputs/3.9.0/*.h'\n",
    "gen_list['lapack/yaml/3.9.0-wodprc'] = './lapack/inputs/3.9.0-wodprc/*.h'\n",
    "gen_list['lapack/yaml/3.9.1'] = './lapack/inputs/3.9.1/*.h'\n",
    "gen_list['lapack/yaml/3.9.1-wodprc'] = './lapack/inputs/3.9.1-wodprc/*.h'\n",
    "gen_list['lapack/yaml/3.10.0'] = './lapack/inputs/3.10.0/*.h'\n",
    "gen_list['lapack/yaml/3.10.0-wodprc'] = './lapack/inputs/3.10.0-wodprc/*.h'\n",
    "gen_list['lapack/yaml/3.10.1'] = './lapack/inputs/3.10.1/*.h'\n",
    "gen_list['lapack/yaml/3.10.1-wodprc'] = './lapack/inputs/3.10.1-wodprc/*.h'\n",
    "gen_list['lapack/yaml/3.11.0'] = './lapack/inputs/3.11.0/*.h'\n",
    "gen_list['lapack/yaml/3.11.0-wodprc'] = './lapack/inputs/3.11.0-wodprc/*.h'\n",
    "gen_list['lapack/yaml/3.12.0'] = './lapack/inputs/3.12.0/*.h'\n",
    "gen_list['lapack/yaml/3.12.0-wodprc'] = './lapack/inputs/3.12.0-wodprc/*.h'\n",
    "gen_list['lapack/yaml/3.12.1'] = './lapack/inputs/3.12.1/*.h'\n",
    "gen_list['lapack/yaml/3.12.1-wodprc'] = './lapack/inputs/3.12.1-wodprc/*.h'\n",
    "\n",
    "\n",
    "\n",
    "def gen_item(f, write_local = True):\n",
    "    # try:\n",
    "        #print(\"Parsing %s.\" % (f))\n",
    "        ast = parse_file(f, use_cpp = True, cpp_args=r'-Ifake_libc_include')\n",
    "        v = FuncDeclVisitor()\n",
    "        v.visit(ast)\n",
    "        try:\n",
    "            if write_local:\n",
    "                os.makedirs('./'+name)\n",
    "        except:\n",
    "            pass\n",
    "        if write_local:\n",
    "            for fun in v.funcs:\n",
    "                fname = fun['name']\n",
    "                fp = open('./' + name + '/' + fname + '.yaml', 'w')\n",
    "                dp = list()\n",
    "                dp.append(fun)\n",
    "                yaml.dump(dp, fp, sort_keys=False, indent=2)\n",
    "                fp.close()\n",
    "        return v.funcs\n",
    "def gen_item_nowrite(f):\n",
    "    return gen_item(f, False)\n",
    "    \n",
    "    #except:\n",
    "    #    print(\"Error while parsing {:s}\".format(f))\n",
    "\n",
    "n_cores = os.cpu_count()\n",
    "\n",
    "for name, d in gen_list.items():\n",
    "    g =glob.glob(d)\n",
    "\n",
    "    print(\"Generate YAML inputs for {:s}\".format(name))\n",
    "    # for f in tqdm(g):\n",
    "    #    gen_item(f)\n",
    "    r2 = list();\n",
    "    r = process_map(gen_item_nowrite, g, max_workers = n_cores, chunksize=1)\n",
    "    for i in r:\n",
    "       r2.extend(i)\n",
    "    # print(r2[0])\n",
    "    r2.sort(key=lambda x: x['name'], reverse=False)\n",
    "    fp = open('./' + name + '.yaml', 'w')\n",
    "    yaml.dump(r2, fp, sort_keys=False, indent=2)\n",
    "    fp.close()"
   ]
  },
  {
   "cell_type": "code",
   "execution_count": null,
   "id": "5ea4f545-f5a6-494a-92ab-308e5478e81f",
   "metadata": {},
   "outputs": [],
   "source": []
  }
 ],
 "metadata": {
  "kernelspec": {
   "display_name": "Python 3 (ipykernel)",
   "language": "python",
   "name": "python3"
  },
  "language_info": {
   "codemirror_mode": {
    "name": "ipython",
    "version": 3
   },
   "file_extension": ".py",
   "mimetype": "text/x-python",
   "name": "python",
   "nbconvert_exporter": "python",
   "pygments_lexer": "ipython3",
   "version": "3.12.3"
  }
 },
 "nbformat": 4,
 "nbformat_minor": 5
}
