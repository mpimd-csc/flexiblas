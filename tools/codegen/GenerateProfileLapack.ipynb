{
 "cells": [
  {
   "cell_type": "code",
   "execution_count": 1,
   "id": "2fbe990c-f5d0-4dd6-aac4-66d435f49e88",
   "metadata": {},
   "outputs": [],
   "source": [
    "import yaml\n",
    "import sys\n",
    "import os\n",
    "import datetime\n",
    "try:\n",
    "    from yaml import CLoader as Loader\n",
    "except:\n",
    "    from yaml import Loader\n",
    "import glob\n",
    "from tqdm import tqdm\n",
    "from tqdm.contrib.concurrent import process_map\n",
    "\n",
    "base = '../../'\n",
    "n_cores = os.cpu_count()\n",
    "\n",
    "def read_file(file_path): \n",
    "    with open(file_path, 'r') as file:\n",
    "        file_content = file.read()\n",
    "    return file_content \n",
    "\n",
    "def load_yaml(inp):\n",
    "    with open(inp,'r') as istream:\n",
    "        y =  yaml.load(istream, Loader=Loader)\n",
    "    return y\n",
    "\n",
    "    \n",
    "code_file_tmpl = read_file('templates/code_file.tmpl')\n",
    "hook_subroutine_body = read_file('templates/hook_subroutine_body.tmpl') \n",
    "hook_function_body = read_file('templates/hook_function_body.tmpl')\n",
    "hook_function_cpx_intel_body = read_file('templates/hook_function_cpx_intel_body.tmpl')\n",
    "hook_function_cpx_gnu_body = read_file('templates/hook_function_cpx_gnu_body.tmpl')\n"
   ]
  },
  {
   "cell_type": "code",
   "execution_count": 2,
   "id": "f3fc1f20-af76-43d4-b6d3-c017e71e23e2",
   "metadata": {},
   "outputs": [],
   "source": [
    "def is_complex_function(y):\n",
    "    cpx_function = (\"return_type_complex\" in y and y[\"return_type_complex\"])\n",
    "    return cpx_function\n",
    "        \n",
    "def generate_subroutine(y, intel_interface = False, component = \"lapack\"):\n",
    "    function_name = y['name'];\n",
    "    arg_list = \"\"\n",
    "    arg_list_void = \"\"\n",
    "    call_list_void = \"\"\n",
    "    cpx_function = False\n",
    "    function = False\n",
    "    return_type=\"void\"\n",
    "    body = hook_subroutine_body\n",
    "    \n",
    "    if y[\"return_type\"] != \"void\":\n",
    "        body = hook_function_body\n",
    "        function = True\n",
    "        cpx_function = (\"return_type_complex\" in y and y[\"return_type_complex\"])\n",
    "        return_type = y[\"return_type\"];\n",
    "        if return_type == \"int\": \n",
    "            return_type = \"blasint\"; \n",
    "        if cpx_function and not intel_interface:\n",
    "            body = hook_function_cpx_gnu_body\n",
    "        if cpx_function and intel_interface:\n",
    "            body = hook_function_cpx_intel_body\n",
    "                     \n",
    "    first = True;\n",
    "    for a in y['args']:\n",
    "        if not first:\n",
    "            arg_list += \", \"\n",
    "            arg_list_void += \", \"\n",
    "            call_list_void += \", \"\n",
    "        first = False\n",
    "        type_ = a['type']\n",
    "        if type_ == 'int':\n",
    "            type_ = 'blasint' \n",
    "        if type_ == \"float _Complex\":\n",
    "            type_ = '{:s}_complex_float'.format(component)\n",
    "        if type_ == \"double _Complex\":\n",
    "            type_ = '{:s}_complex_double'.format(component)            \n",
    "        if a['pointer']:\n",
    "            arg_list += type_ + \" *\" + a['name']\n",
    "            arg_list_void += \"void *\" + a['name']\n",
    "            call_list_void += \"(void *) \" + a['name']\n",
    "        else:\n",
    "            arg_list += type_ + \" \" + a['name']\n",
    "            arg_list_void += a['type'] + \" \" + a['name']\n",
    "            call_list_void += a['name']\n",
    "    if len(arg_list) == 0:\n",
    "        arg_list = \"void\"\n",
    "    if len(arg_list) == 0:\n",
    "        arg_list = \"void\"\n",
    "    if len(arg_list_void) == 0:\n",
    "        arg_list_void = \"void\"\n",
    "        \n",
    "    return body.format(\n",
    "                      return_type = return_type,\n",
    "                      function_name = function_name, \n",
    "                      arg_list = arg_list,\n",
    "                      arg_list_void = arg_list_void, \n",
    "                      call_list_void = call_list_void)\n",
    "\n",
    "\n",
    "def generate_lapack(version):\n",
    "    print(\"Generate Profile Hook for LAPACK {:s}\".format(version))\n",
    "\n",
    "    year = datetime.date.today().year\n",
    "    versionx = version.replace('.','_')\n",
    "    versionx = versionx.replace('-','_')\n",
    "    varr = version.split(\".\")\n",
    "    major = int(varr[0])\n",
    "    minor = int(varr[1])\n",
    "    varr2 = varr[2].split(\"-\")\n",
    "    patch = int(varr2[0])\n",
    "    if ( len(varr2) > 1):\n",
    "        extra = \"without deprecated\" \n",
    "    else:\n",
    "        extra = \"with deprecated\"\n",
    "\n",
    "    inputs = './lapack/yaml/'+version+'.yaml'\n",
    "    \n",
    "    try:\n",
    "        ignore_file = load_yaml('./lapack/yaml/ignore-'+version+'.yaml')\n",
    "        ignore = ignore_file[\"ignore\"]\n",
    "    except:\n",
    "        ignore = list()\n",
    "    \n",
    "    \n",
    "    body =  '#include \"profile_hook.h\"\\n'\n",
    "    body += '#include \"cscutils/table.h\"\\n'\n",
    "    body += '#include \"flexiblas_backend.h\"\\n'\n",
    "    body += '#include \"flexiblas_real_lapack_'+versionx+'.h\"\\n'\n",
    "    body += '\\n\\n'   \n",
    "\n",
    "        \n",
    "    # r = process_map(load_yaml, inputs, max_workers = n_cores, chunksize=1)\n",
    "    r = load_yaml(inputs)\n",
    "    function_list = list();\n",
    "    for y in tqdm(r):\n",
    "        name = y[\"name\"]\n",
    "        if name in ignore: \n",
    "            continue\n",
    "        function_list.append(name)\n",
    "        if is_complex_function(y):\n",
    "            body += \"#ifdef FLEXIBLAS_ABI_GNU\\n\"\n",
    "            body += generate_subroutine(y, intel_interface = False) + '\\n'\n",
    "            body += \"#else\\n\"\n",
    "            body += generate_subroutine(y, intel_interface = True) + '\\n'\n",
    "            body += \"#endif\\n\"\n",
    "            \n",
    "        else:\n",
    "            body += generate_subroutine(y) + '\\n'\n",
    "            \n",
    "    body += \"void profile_lapack_add(csc_table_t *tab, int col_name, int col_calls, int col_time) {\\n\"\n",
    "    for name in function_list:\n",
    "        body += \"    ADD_BLAS_ENTRY({:s});\\n\".format(name)\n",
    "    body += \"    return;\\n\"\n",
    "    body += \"}\\n\"\n",
    "\n",
    "    profile_loader = open (base+'/src/hooks/profile/profile_lapack_'+versionx+'.c','w')\n",
    "    profile_loader.write(code_file_tmpl.format(\n",
    "                        year = datetime.date.today().year, \n",
    "                        body = body))\n",
    "    profile_loader.close()"
   ]
  },
  {
   "cell_type": "code",
   "execution_count": 3,
   "id": "c0f41efe-d10f-4970-b520-ec8c241c4da5",
   "metadata": {},
   "outputs": [
    {
     "name": "stdout",
     "output_type": "stream",
     "text": [
      "Generate Profile Hook for LAPACK 3.12.1\n"
     ]
    },
    {
     "name": "stderr",
     "output_type": "stream",
     "text": [
      "100%|██████████████████████████████████████████████████████████████████████████████████████████████████████████████████████████████████████████████████| 2112/2112 [00:00<00:00, 41892.86it/s]\n"
     ]
    },
    {
     "name": "stdout",
     "output_type": "stream",
     "text": [
      "Generate Profile Hook for LAPACK 3.12.1-wodprc\n"
     ]
    },
    {
     "name": "stderr",
     "output_type": "stream",
     "text": [
      "100%|██████████████████████████████████████████████████████████████████████████████████████████████████████████████████████████████████████████████████| 2068/2068 [00:00<00:00, 45426.47it/s]\n"
     ]
    },
    {
     "name": "stdout",
     "output_type": "stream",
     "text": [
      "Generate Profile Hook for LAPACK 3.12.0\n"
     ]
    },
    {
     "name": "stderr",
     "output_type": "stream",
     "text": [
      "100%|██████████████████████████████████████████████████████████████████████████████████████████████████████████████████████████████████████████████████| 2104/2104 [00:00<00:00, 60358.78it/s]\n"
     ]
    },
    {
     "name": "stdout",
     "output_type": "stream",
     "text": [
      "Generate Profile Hook for LAPACK 3.12.0-wodprc\n"
     ]
    },
    {
     "name": "stderr",
     "output_type": "stream",
     "text": [
      "100%|██████████████████████████████████████████████████████████████████████████████████████████████████████████████████████████████████████████████████| 2060/2060 [00:00<00:00, 59980.61it/s]\n"
     ]
    },
    {
     "name": "stdout",
     "output_type": "stream",
     "text": [
      "Generate Profile Hook for LAPACK 3.11.0\n"
     ]
    },
    {
     "name": "stderr",
     "output_type": "stream",
     "text": [
      "100%|██████████████████████████████████████████████████████████████████████████████████████████████████████████████████████████████████████████████████| 2074/2074 [00:00<00:00, 67854.81it/s]\n"
     ]
    },
    {
     "name": "stdout",
     "output_type": "stream",
     "text": [
      "Generate Profile Hook for LAPACK 3.11.0-wodprc\n"
     ]
    },
    {
     "name": "stderr",
     "output_type": "stream",
     "text": [
      "100%|██████████████████████████████████████████████████████████████████████████████████████████████████████████████████████████████████████████████████| 2038/2038 [00:00<00:00, 63810.51it/s]\n"
     ]
    },
    {
     "name": "stdout",
     "output_type": "stream",
     "text": [
      "Generate Profile Hook for LAPACK 3.10.1\n"
     ]
    },
    {
     "name": "stderr",
     "output_type": "stream",
     "text": [
      "100%|██████████████████████████████████████████████████████████████████████████████████████████████████████████████████████████████████████████████████| 2060/2060 [00:00<00:00, 32414.94it/s]\n"
     ]
    },
    {
     "name": "stdout",
     "output_type": "stream",
     "text": [
      "Generate Profile Hook for LAPACK 3.10.1-wodprc\n"
     ]
    },
    {
     "name": "stderr",
     "output_type": "stream",
     "text": [
      "100%|██████████████████████████████████████████████████████████████████████████████████████████████████████████████████████████████████████████████████| 2024/2024 [00:00<00:00, 46161.93it/s]\n"
     ]
    },
    {
     "name": "stdout",
     "output_type": "stream",
     "text": [
      "Generate Profile Hook for LAPACK 3.10.0\n"
     ]
    },
    {
     "name": "stderr",
     "output_type": "stream",
     "text": [
      "100%|██████████████████████████████████████████████████████████████████████████████████████████████████████████████████████████████████████████████████| 2060/2060 [00:00<00:00, 68789.74it/s]\n"
     ]
    },
    {
     "name": "stdout",
     "output_type": "stream",
     "text": [
      "Generate Profile Hook for LAPACK 3.10.0-wodprc\n"
     ]
    },
    {
     "name": "stderr",
     "output_type": "stream",
     "text": [
      "100%|██████████████████████████████████████████████████████████████████████████████████████████████████████████████████████████████████████████████████| 2024/2024 [00:00<00:00, 61741.50it/s]\n"
     ]
    },
    {
     "name": "stdout",
     "output_type": "stream",
     "text": [
      "Generate Profile Hook for LAPACK 3.9.1\n"
     ]
    },
    {
     "name": "stderr",
     "output_type": "stream",
     "text": [
      "100%|██████████████████████████████████████████████████████████████████████████████████████████████████████████████████████████████████████████████████| 2042/2042 [00:00<00:00, 67099.40it/s]\n"
     ]
    },
    {
     "name": "stdout",
     "output_type": "stream",
     "text": [
      "Generate Profile Hook for LAPACK 3.9.1-wodprc\n"
     ]
    },
    {
     "name": "stderr",
     "output_type": "stream",
     "text": [
      "100%|██████████████████████████████████████████████████████████████████████████████████████████████████████████████████████████████████████████████████| 2006/2006 [00:00<00:00, 50629.87it/s]\n"
     ]
    },
    {
     "name": "stdout",
     "output_type": "stream",
     "text": [
      "Generate Profile Hook for LAPACK 3.9.0\n"
     ]
    },
    {
     "name": "stderr",
     "output_type": "stream",
     "text": [
      "100%|██████████████████████████████████████████████████████████████████████████████████████████████████████████████████████████████████████████████████| 2030/2030 [00:00<00:00, 37624.72it/s]\n"
     ]
    },
    {
     "name": "stdout",
     "output_type": "stream",
     "text": [
      "Generate Profile Hook for LAPACK 3.9.0-wodprc\n"
     ]
    },
    {
     "name": "stderr",
     "output_type": "stream",
     "text": [
      "100%|██████████████████████████████████████████████████████████████████████████████████████████████████████████████████████████████████████████████████| 1994/1994 [00:00<00:00, 35229.62it/s]\n"
     ]
    },
    {
     "name": "stdout",
     "output_type": "stream",
     "text": [
      "Generate Profile Hook for LAPACK 3.8.0\n"
     ]
    },
    {
     "name": "stderr",
     "output_type": "stream",
     "text": [
      "100%|██████████████████████████████████████████████████████████████████████████████████████████████████████████████████████████████████████████████████| 2008/2008 [00:00<00:00, 48593.98it/s]\n"
     ]
    },
    {
     "name": "stdout",
     "output_type": "stream",
     "text": [
      "Generate Profile Hook for LAPACK 3.8.0-wodprc\n"
     ]
    },
    {
     "name": "stderr",
     "output_type": "stream",
     "text": [
      "100%|██████████████████████████████████████████████████████████████████████████████████████████████████████████████████████████████████████████████████| 1972/1972 [00:00<00:00, 34556.50it/s]\n"
     ]
    },
    {
     "name": "stdout",
     "output_type": "stream",
     "text": [
      "Generate Profile Hook for LAPACK 3.7.1\n"
     ]
    },
    {
     "name": "stderr",
     "output_type": "stream",
     "text": [
      "100%|██████████████████████████████████████████████████████████████████████████████████████████████████████████████████████████████████████████████████| 1989/1989 [00:00<00:00, 45470.24it/s]\n"
     ]
    },
    {
     "name": "stdout",
     "output_type": "stream",
     "text": [
      "Generate Profile Hook for LAPACK 3.7.1-wodprc\n"
     ]
    },
    {
     "name": "stderr",
     "output_type": "stream",
     "text": [
      "100%|██████████████████████████████████████████████████████████████████████████████████████████████████████████████████████████████████████████████████| 1953/1953 [00:00<00:00, 64465.80it/s]\n"
     ]
    },
    {
     "name": "stdout",
     "output_type": "stream",
     "text": [
      "Generate Profile Hook for LAPACK 3.7.0\n"
     ]
    },
    {
     "name": "stderr",
     "output_type": "stream",
     "text": [
      "100%|██████████████████████████████████████████████████████████████████████████████████████████████████████████████████████████████████████████████████| 1989/1989 [00:00<00:00, 64705.43it/s]\n"
     ]
    },
    {
     "name": "stdout",
     "output_type": "stream",
     "text": [
      "Generate Profile Hook for LAPACK 3.7.0-wodprc\n"
     ]
    },
    {
     "name": "stderr",
     "output_type": "stream",
     "text": [
      "100%|██████████████████████████████████████████████████████████████████████████████████████████████████████████████████████████████████████████████████| 1953/1953 [00:00<00:00, 67642.24it/s]\n"
     ]
    },
    {
     "name": "stdout",
     "output_type": "stream",
     "text": [
      "Generate Profile Hook for LAPACK 3.6.1\n"
     ]
    },
    {
     "name": "stderr",
     "output_type": "stream",
     "text": [
      "100%|██████████████████████████████████████████████████████████████████████████████████████████████████████████████████████████████████████████████████| 1796/1796 [00:00<00:00, 61371.89it/s]\n"
     ]
    },
    {
     "name": "stdout",
     "output_type": "stream",
     "text": [
      "Generate Profile Hook for LAPACK 3.6.1-wodprc\n"
     ]
    },
    {
     "name": "stderr",
     "output_type": "stream",
     "text": [
      "100%|██████████████████████████████████████████████████████████████████████████████████████████████████████████████████████████████████████████████████| 1760/1760 [00:00<00:00, 68784.71it/s]\n"
     ]
    },
    {
     "name": "stdout",
     "output_type": "stream",
     "text": [
      "Generate Profile Hook for LAPACK 3.6.0\n"
     ]
    },
    {
     "name": "stderr",
     "output_type": "stream",
     "text": [
      "100%|██████████████████████████████████████████████████████████████████████████████████████████████████████████████████████████████████████████████████| 1792/1792 [00:00<00:00, 65745.81it/s]\n"
     ]
    },
    {
     "name": "stdout",
     "output_type": "stream",
     "text": [
      "Generate Profile Hook for LAPACK 3.6.0-wodprc\n"
     ]
    },
    {
     "name": "stderr",
     "output_type": "stream",
     "text": [
      "100%|██████████████████████████████████████████████████████████████████████████████████████████████████████████████████████████████████████████████████| 1756/1756 [00:00<00:00, 71458.21it/s]\n"
     ]
    },
    {
     "name": "stdout",
     "output_type": "stream",
     "text": [
      "Generate Profile Hook for LAPACK 3.5.0\n"
     ]
    },
    {
     "name": "stderr",
     "output_type": "stream",
     "text": [
      "100%|██████████████████████████████████████████████████████████████████████████████████████████████████████████████████████████████████████████████████| 1746/1746 [00:00<00:00, 70657.78it/s]\n"
     ]
    },
    {
     "name": "stdout",
     "output_type": "stream",
     "text": [
      "Generate Profile Hook for LAPACK 3.4.2\n"
     ]
    },
    {
     "name": "stderr",
     "output_type": "stream",
     "text": [
      "100%|██████████████████████████████████████████████████████████████████████████████████████████████████████████████████████████████████████████████████| 1672/1672 [00:00<00:00, 71588.45it/s]\n"
     ]
    },
    {
     "name": "stdout",
     "output_type": "stream",
     "text": [
      "Generate Profile Hook for LAPACK 3.4.1\n"
     ]
    },
    {
     "name": "stderr",
     "output_type": "stream",
     "text": [
      "100%|██████████████████████████████████████████████████████████████████████████████████████████████████████████████████████████████████████████████████| 1672/1672 [00:00<00:00, 67335.03it/s]\n"
     ]
    },
    {
     "name": "stdout",
     "output_type": "stream",
     "text": [
      "Generate Profile Hook for LAPACK 3.4.0\n"
     ]
    },
    {
     "name": "stderr",
     "output_type": "stream",
     "text": [
      "100%|██████████████████████████████████████████████████████████████████████████████████████████████████████████████████████████████████████████████████| 1672/1672 [00:00<00:00, 47690.74it/s]\n"
     ]
    },
    {
     "name": "stdout",
     "output_type": "stream",
     "text": [
      "Generate Profile Hook for LAPACK 3.3.1\n"
     ]
    },
    {
     "name": "stderr",
     "output_type": "stream",
     "text": [
      "100%|██████████████████████████████████████████████████████████████████████████████████████████████████████████████████████████████████████████████████| 1640/1640 [00:00<00:00, 67399.50it/s]\n"
     ]
    },
    {
     "name": "stdout",
     "output_type": "stream",
     "text": [
      "Generate Profile Hook for LAPACK 3.3.0\n"
     ]
    },
    {
     "name": "stderr",
     "output_type": "stream",
     "text": [
      "100%|██████████████████████████████████████████████████████████████████████████████████████████████████████████████████████████████████████████████████| 1634/1634 [00:00<00:00, 70907.49it/s]\n"
     ]
    }
   ],
   "source": [
    "generate_lapack(\"3.12.1\")\n",
    "generate_lapack(\"3.12.1-wodprc\")\n",
    "generate_lapack(\"3.12.0\")\n",
    "generate_lapack(\"3.12.0-wodprc\")\n",
    "generate_lapack(\"3.11.0\")\n",
    "generate_lapack(\"3.11.0-wodprc\")\n",
    "generate_lapack(\"3.10.1\")\n",
    "generate_lapack(\"3.10.1-wodprc\")\n",
    "generate_lapack(\"3.10.0\")\n",
    "generate_lapack(\"3.10.0-wodprc\")\n",
    "generate_lapack(\"3.9.1\")\n",
    "generate_lapack(\"3.9.1-wodprc\")\n",
    "generate_lapack(\"3.9.0\")\n",
    "generate_lapack(\"3.9.0-wodprc\")\n",
    "generate_lapack(\"3.8.0\")\n",
    "generate_lapack(\"3.8.0-wodprc\")\n",
    "generate_lapack(\"3.7.1\")\n",
    "generate_lapack(\"3.7.1-wodprc\")\n",
    "generate_lapack(\"3.7.0\")\n",
    "generate_lapack(\"3.7.0-wodprc\")\n",
    "generate_lapack(\"3.6.1\")\n",
    "generate_lapack(\"3.6.1-wodprc\")\n",
    "generate_lapack(\"3.6.0\")\n",
    "generate_lapack(\"3.6.0-wodprc\")\n",
    "generate_lapack(\"3.5.0\")\n",
    "generate_lapack(\"3.4.2\")\n",
    "generate_lapack(\"3.4.1\")\n",
    "generate_lapack(\"3.4.0\")\n",
    "generate_lapack(\"3.3.1\")\n",
    "generate_lapack(\"3.3.0\")"
   ]
  },
  {
   "cell_type": "code",
   "execution_count": null,
   "id": "78c90110-29b4-4d6f-a032-546d67ee6f13",
   "metadata": {},
   "outputs": [
    {
     "name": "stderr",
     "output_type": "stream",
     "text": [
      " 60%|███████████████████████████████████████████████████████████████████████████████████████████▊                                                             | 18/30 [00:46<00:32,  2.74s/it]"
     ]
    }
   ],
   "source": [
    "def load_name_from_yaml(inp):\n",
    "        with open(inp,'r') as istream:\n",
    "            y =  yaml.load(istream, Loader=Loader)\n",
    "        name = y[0]['name'];\n",
    "        return name\n",
    "    \n",
    "def generate_profile_structure():\n",
    "    lapack_yaml = glob.glob(\"lapack/yaml/3*.yaml\")\n",
    "    r = list()\n",
    "    for f in tqdm(lapack_yaml):\n",
    "        r.extend(load_yaml(f))\n",
    "    # r2 = process_map(load_yaml, lapack_yaml, max_workers = n_cores, chunksize=1)\n",
    "    lapack_list = list(dict.fromkeys([x['name'] for x in r]))\n",
    "    \n",
    "    fp = open(base+'/src/hooks/profile/profile_data_lapack.h', 'w')\n",
    "    for name in tqdm(lapack_list):\n",
    "        fp.write('profile_data_t {:s};\\n'.format(name))\n",
    "    fp.close()\n",
    "\n",
    "generate_profile_structure()"
   ]
  },
  {
   "cell_type": "code",
   "execution_count": null,
   "id": "ca657b27-6c02-43ca-85a0-86b384376460",
   "metadata": {},
   "outputs": [],
   "source": []
  }
 ],
 "metadata": {
  "kernelspec": {
   "display_name": "Python 3 (ipykernel)",
   "language": "python",
   "name": "python3"
  },
  "language_info": {
   "codemirror_mode": {
    "name": "ipython",
    "version": 3
   },
   "file_extension": ".py",
   "mimetype": "text/x-python",
   "name": "python",
   "nbconvert_exporter": "python",
   "pygments_lexer": "ipython3",
   "version": "3.12.3"
  }
 },
 "nbformat": 4,
 "nbformat_minor": 5
}
