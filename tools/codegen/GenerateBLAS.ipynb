{
 "cells": [
  {
   "cell_type": "code",
   "execution_count": 1,
   "id": "3f24c9b5-0f44-4a74-b775-8688963238bf",
   "metadata": {},
   "outputs": [],
   "source": [
    "import yaml\n",
    "import sys\n",
    "import os\n",
    "import datetime\n",
    "try:\n",
    "    from yaml import CLoader as Loader\n",
    "except:\n",
    "    from yaml import Loader\n",
    "\n",
    "import glob\n",
    "from tqdm import tqdm\n",
    "from tqdm.contrib.concurrent import process_map\n",
    "\n",
    "n_cores = os.cpu_count()\n",
    "base = '../../'\n",
    "\n",
    "\n",
    "def read_file(file_path): \n",
    "    with open(file_path, 'r') as file:\n",
    "        file_content = file.read()\n",
    "    return file_content "
   ]
  },
  {
   "cell_type": "code",
   "execution_count": 2,
   "id": "d2ca0306-0b27-4775-a6df-ec1910238467",
   "metadata": {
    "editable": true,
    "slideshow": {
     "slide_type": ""
    },
    "tags": []
   },
   "outputs": [],
   "source": [
    "file_header = read_file('templates/implementation_header.tmpl')\n",
    "subroutine_body = read_file('templates/subroutine_body.tmpl') \n",
    "altnames_subroutine_body = read_file('templates/altnames_subroutine_body.tmpl')\n",
    "subroutine_header = read_file('templates/subroutine_header.tmpl')\n",
    "function_body = read_file('templates/function_body.tmpl')\n",
    "function_float_body = read_file('templates/function_float_body.tmpl')\n",
    "altnames_function_body = read_file('templates/altnames_function_body.tmpl')\n",
    "function_header = read_file('templates/function_header.tmpl')\n",
    "function_cpx_gnu_body = read_file('templates/function_cpx_gnu_body.tmpl')\n",
    "altnames_function_cpx_gnu_body = read_file('templates/altnames_function_cpx_gnu_body.tmpl')\n",
    "function_cpx_gnu_header = read_file('templates/function_cpx_gnu_header.tmpl')\n",
    "function_cpx_intel_body = read_file('templates/function_cpx_intel_body.tmpl')\n",
    "altnames_function_cpx_intel_body = read_file('templates/altnames_function_cpx_intel_body.tmpl')\n",
    "function_cpx_intel_header = read_file('templates/function_cpx_intel_header.tmpl')\n",
    "subroutine_hook_header = read_file('templates/subroutine_hook_header.tmpl')\n",
    "function_hook_header = read_file('templates/function_hook_header.tmpl')\n",
    "function_hook_cpx_header = read_file('templates/function_hook_cpx_header.tmpl')\n",
    "structure_tmpl = read_file('templates/lapack_structure_template.tmpl')\n",
    "header_code_tmpl = read_file('templates/blas_header.tmpl')\n",
    "code_file_tmpl = read_file('templates/code_file.tmpl')\n",
    "blas_structure_tmpl = read_file('templates/blas/blas_structure_template.tmpl')"
   ]
  },
  {
   "cell_type": "code",
   "execution_count": 3,
   "id": "daee0889-4d9a-4f48-9ee8-40e53863b637",
   "metadata": {},
   "outputs": [],
   "source": [
    "def is_complex_function(y):\n",
    "    cpx_function = (\"return_type_complex\" in y and y[\"return_type_complex\"])\n",
    "    return cpx_function\n",
    "        "
   ]
  },
  {
   "cell_type": "code",
   "execution_count": 4,
   "id": "d379ecd9-df15-439d-9291-1275a781c8a8",
   "metadata": {
    "editable": true,
    "slideshow": {
     "slide_type": ""
    },
    "tags": []
   },
   "outputs": [],
   "source": [
    "loader_function_body = \"\"\"\n",
    "HIDDEN int __flexiblas_load_f{component:s} ( flexiblas_backend_t *handle, int *loaded, int *failed )  {{\n",
    "\tint _ifailed = *failed;\n",
    "\n",
    "    #ifndef FLEXIBLAS_INTEGER8\n",
    "    if (handle->integer_interface == FLEXIBLAS_INTERFACE_ILP64 ) {{\n",
    "        DPRINTF(0, \"The selected BLAS library contains an ILP64 version of BLAS. Loading fallback instead.\"); \n",
    "    }}\n",
    "    #endif\n",
    "  \n",
    "    {body:s}\n",
    "\n",
    "\tif (_ifailed != (*failed))\n",
    "\t\treturn 1;\n",
    "\telse\n",
    "    \treturn 0;\n",
    "}}\n",
    "\"\"\"\n",
    "\n",
    "loader_function_suffix_body = \"\"\"\n",
    "HIDDEN int __flexiblas_load_f{component:s}_64 ( flexiblas_backend_t *handle, int *loaded, int *failed )  {{\n",
    "\tint _ifailed = *failed;\n",
    "\n",
    "    #ifndef FLEXIBLAS_INTEGER8\n",
    "  \n",
    "    {body:s}\n",
    "\n",
    "\tif (_ifailed != (*failed))\n",
    "\t\treturn 1;\n",
    "\telse\n",
    "    \treturn 0;\n",
    "    #else \n",
    "    return 1; \n",
    "    #endif\n",
    "    \n",
    "}}\n",
    "\"\"\"\n",
    "\n",
    "hook_loader_function_body = \"\"\"\n",
    "#ifdef FLEXIBLAS_HOOK_API\n",
    "HIDDEN int __flexiblas_load_{component:s}_hooks ( flexiblas_hook_t *hooks, void *hook_handle)  {{\n",
    "\n",
    "{body:s}\n",
    "\n",
    "    return 0; \n",
    "}}\n",
    "#endif \n",
    "\"\"\"\n",
    "hook_loader_snippet = \"    LOAD_HOOK(hooks,hook_handle,{name:s},{name:s});\"\n",
    "\n",
    "loader_snippet = \"\"\"\n",
    "    // LOAD_FBLAS(handle,{component:s}.{name:s},{name:s});\n",
    "    do {{\n",
    "        void *ptr_library = __flexiblas_lookup_fortran_function(handle->library_handle, {symbol_names:s}, NULL);\n",
    "        void *ptr_fallback = __flexiblas_lookup_fortran_function(__flexiblas_{component:s}_fallback, {symbol_names:s}, NULL);\n",
    "\n",
    "        #ifndef FLEXIBLAS_INTEGER8\n",
    "        if ( ptr_library != NULL && handle->integer_interface == FLEXIBLAS_INTERFACE_LP64) {{\n",
    "            handle->{component:s}.{name:s} = ptr_library;\n",
    "            *loaded = *loaded +1; \n",
    "        }} else if (ptr_fallback != NULL ) {{\n",
    "            DPRINTF(2, \"Load {name:s} from internal fallback BLAS.\\\\n\");\n",
    "            handle->{component:s}.{name:s} = ptr_fallback;\n",
    "            *loaded = *loaded +1; \n",
    "        }} else {{\n",
    "            *failed = *failed + 1; \n",
    "            flexiblas_print_error(\"flexiblas\",__FILE__, __LINE__, \"Can not load {name:s}.\\\\n\");\n",
    "        }}\n",
    "        #else \n",
    "        if ( ptr_library != NULL && handle->integer_interface == FLEXIBLAS_INTERFACE_ILP64) {{\n",
    "            handle->{component:s}.{name:s} = ptr_library;\n",
    "            *loaded = *loaded +1; \n",
    "        }} else if (ptr_fallback != NULL ) {{\n",
    "            DPRINTF(2, \"Load {name:s} from internal fallback BLAS.\\\\n\");\n",
    "            handle->{component:s}.{name:s} = ptr_fallback;\n",
    "            *loaded = *loaded +1; \n",
    "        }} else {{\n",
    "            *failed = *failed + 1; \n",
    "            flexiblas_print_error(\"flexiblas\",__FILE__, __LINE__, \"Can not load {name:s}.\\\\n\");\n",
    "        }}\n",
    "        #endif\n",
    "    }} while(0);\n",
    "\"\"\"\n",
    "\n",
    "loader_fallback_snippet = \"\"\"\n",
    "    // LOAD_FBLAS(handle,{component:s}.{name:s},{name:s});\n",
    "    do {{\n",
    "        void *ptr_fallback = __flexiblas_lookup_fortran_function(__flexiblas_{component:s}_fallback, {symbol_names:s}, NULL);\n",
    "\n",
    "        if (ptr_fallback != NULL ) {{\n",
    "            DPRINTF(2, \"Load {name:s} from internal fallback BLAS.\\\\nn\");\n",
    "            handle->{component:s}.{name:s} = ptr_fallback;\n",
    "            *loaded = *loaded +1; \n",
    "        }} else {{\n",
    "            *failed = *failed + 1; \n",
    "            flexiblas_print_error(\"flexiblas\",__FILE__, __LINE__, \"Can not load {name:s}.\\\\n\");\n",
    "        }}\n",
    "    }} while (0);\n",
    "\"\"\"\n",
    "\n",
    "\n",
    "loader_suffix_snippet = \"\"\"\n",
    "    // LOAD_FBLAS(handle,blas.{name:s},{name:s});\n",
    "    do {{\n",
    "        void *ptr_library  = __flexiblas_lookup_fortran_function(handle->library_handle, {symbol_names:s}, NULL);\n",
    "        void *ptr_library_64  = __flexiblas_lookup_fortran_function(handle->library_handle, {symbol_names_api:s}, NULL);\n",
    "        void *ptr_api_suffix_library  = __flexiblas_lookup_fortran_function(handle->library_handle_64, {symbol_names:s}, NULL);\n",
    "        void *ptr_api_suffix_library_64  = __flexiblas_lookup_fortran_function(handle->library_handle_64, {symbol_names_api:s}, NULL);\n",
    "        \n",
    "        void *ptr_fallback = __flexiblas_lookup_fortran_function(__flexiblas_blas_fallback, {symbol_names_api:s}, NULL);\n",
    "\n",
    "        if ( handle->integer_interface == FLEXIBLAS_INTERFACE_ILP64 && \n",
    "             ptr_library != NULL ) {{\n",
    "            /* The normal symbol is already ILP64 */ \n",
    "            DPRINTF(2, \"Load {name:s}_64 from {name:s}.\\\\n\"); \n",
    "            handle->blas.{name:s} = ptr_library;\n",
    "            *loaded = *loaded +1; \n",
    "        }} else if ( ptr_library_64 != NULL ) {{\n",
    "            /* The library ships ILP64 suffixed symbols */ \n",
    "            DPRINTF(2, \"Load {name:s}_64 from {name:s}_64.\\\\n\"); \n",
    "            handle->blas.{name:s} = ptr_library_64;\n",
    "            *loaded = *loaded +1; \n",
    "        }} else if ( ptr_api_suffix_library_64 != NULL ) {{\n",
    "            /* Get the symbol from the second library */ \n",
    "            DPRINTF(2, \"Load {name:s}_64 from {name:s}_64 in the ILP64 library.\\\\n\"); \n",
    "            handle->blas.{name:s} = ptr_api_suffix_library_64;\n",
    "            *loaded = *loaded +1; \n",
    "        }} else if ( ptr_api_suffix_library != NULL ) {{\n",
    "            /* Get the symbol from the second library */ \n",
    "            DPRINTF(2, \"Load {name:s}_64 from {name:s} in the ILP64 library.\\\\n\"); \n",
    "            handle->blas.{name:s} = ptr_api_suffix_library;\n",
    "            *loaded = *loaded +1; \n",
    "        }} else if ( ptr_fallback != NULL ) {{ \n",
    "            DPRINTF(2, \"Load {name:s} from internal fallback BLAS.\\\\n\");\n",
    "            handle->blas.{name:s} = ptr_fallback;\n",
    "            *loaded = *loaded +1; \n",
    "        }} else {{\n",
    "            *failed = *failed + 1; \n",
    "            flexiblas_print_error(\"flexiblas\",__FILE__, __LINE__, \"Can not load {name:s}_64.\\\\n\");\n",
    "        }}\n",
    "    }} while(0);\n",
    "\"\"\"\n",
    "\n",
    "\n",
    "def generate_loader_snippet(y, component = \"blas\", fallback = False):\n",
    "    name = y[\"name\"]\n",
    "    load_name = y[\"load_name\"]\n",
    "    symbol_names = \"\\\"{}\\\"\".format(load_name[0])\n",
    "    symbol_names_api = \"\\\"{}_64\\\"\".format(load_name[0])\n",
    "    if len(load_name) > 1:\n",
    "        for k in range(1, len(load_name)):\n",
    "            symbol_names += \", \\\"{}\\\"\".format(load_name[k])\n",
    "            symbol_names_api += \", \\\"{}_64\\\"\".format(load_name[k])\n",
    "    if not fallback:\n",
    "        return loader_snippet.format(\n",
    "                                component = component,\n",
    "                                name = name, \n",
    "                                symbol_names = symbol_names, \n",
    "                                symbol_names_api = symbol_names_api) \n",
    "    else:\n",
    "         return loader_fallback_snippet.format(\n",
    "                                component = component,\n",
    "                                name = name, \n",
    "                                symbol_names = symbol_names, \n",
    "                                symbol_names_api = symbol_names_api) \n",
    "\n",
    "\n",
    "def generate_loader_suffix_snippet(y, component = \"blas\"):\n",
    "    name = y[\"name\"]\n",
    "    load_name = y[\"load_name\"]\n",
    "    symbol_names = \"\\\"{}\\\"\".format(load_name[0])\n",
    "    symbol_names_api = \"\\\"{}_64\\\"\".format(load_name[0])\n",
    "    if len(load_name) > 1:\n",
    "        for k in range(1, len(load_name)):\n",
    "            symbol_names += \", \\\"{}\\\"\".format(load_name[k])\n",
    "            symbol_names_api += \", \\\"{}_64\\\"\".format(load_name[k])\n",
    "    return loader_suffix_snippet.format(\n",
    "                                component = component,\n",
    "                                name = name, \n",
    "                                symbol_names = symbol_names, \n",
    "                                symbol_names_api = symbol_names_api) \n"
   ]
  },
  {
   "cell_type": "code",
   "execution_count": 5,
   "id": "2ade7c83-14db-4645-a20e-80ca3e03cd48",
   "metadata": {},
   "outputs": [],
   "source": [
    "def generate_file_header():\n",
    "    year = datetime.date.today().year\n",
    "    return file_header.format(year = year)"
   ]
  },
  {
   "cell_type": "code",
   "execution_count": 6,
   "id": "1cdcd6b1-8198-4bef-8f21-2e3e2b0c0c7c",
   "metadata": {
    "editable": true,
    "slideshow": {
     "slide_type": ""
    },
    "tags": []
   },
   "outputs": [],
   "source": [
    "def generate_hook_loader_snippet(y):\n",
    "    name = y[\"name\"]\n",
    "    return hook_loader_snippet.format(name = name)"
   ]
  },
  {
   "cell_type": "code",
   "execution_count": 7,
   "id": "44f09726-1318-42c0-934b-4a7d21d963a7",
   "metadata": {
    "editable": true,
    "slideshow": {
     "slide_type": ""
    },
    "tags": []
   },
   "outputs": [],
   "source": [
    "def generate_subroutine(y, intel_interface = False, component = \"blas\"):\n",
    "    function_name = y['name'];\n",
    "    FUNCTION_NAME = y['name'].upper()\n",
    "    arg_list = \"\"\n",
    "    arg_list_void = \"\"\n",
    "    call_list_void = \"\"\n",
    "    cpx_function = False\n",
    "    function = False\n",
    "    return_type=\"void\"\n",
    "    body = subroutine_body\n",
    "    alt_body = altnames_subroutine_body\n",
    "    header = subroutine_header\n",
    "    hook_header = subroutine_hook_header\n",
    "    \n",
    "    if y[\"return_type\"] != \"void\":\n",
    "        body = function_body\n",
    "        alt_body = altnames_function_body\n",
    "        header = function_header\n",
    "        hook_header = function_hook_header\n",
    "        function = True\n",
    "        cpx_function = (\"return_type_complex\" in y and y[\"return_type_complex\"])\n",
    "        return_type = y[\"return_type\"];\n",
    "        if return_type == \"int\": \n",
    "            return_type = \"blasint\"; \n",
    "        if return_type == \"float _Complex\":\n",
    "            return_type = '{:s}_complex_float'.format(component)\n",
    "        if return_type == \"double _Complex\":\n",
    "            return_type = '{:s}_complex_double'.format(component)            \n",
    "        if cpx_function and not intel_interface:\n",
    "            body = function_cpx_gnu_body\n",
    "            alt_body = altnames_function_cpx_gnu_body\n",
    "            header = function_cpx_gnu_header\n",
    "            hook_header = function_hook_cpx_header\n",
    "        if cpx_function and intel_interface:\n",
    "            body = function_cpx_intel_body\n",
    "            alt_body = altnames_function_cpx_intel_body\n",
    "            header = function_cpx_intel_header\n",
    "            hook_header = function_hook_cpx_header\n",
    "        if return_type == \"float\":\n",
    "            body = function_float_body\n",
    "                  \n",
    "    h = \"\"       \n",
    "    \n",
    "    first = True;\n",
    "    for a in y['args']:\n",
    "        if not first:\n",
    "            arg_list += \", \"\n",
    "            arg_list_void += \", \"\n",
    "            call_list_void += \", \"\n",
    "        first = False\n",
    "        type_ = a['type']\n",
    "        if type_ == 'int':\n",
    "            type_ = 'blasint' \n",
    "        if type_ == \"float _Complex\":\n",
    "            type_ = '{:s}_complex_float'.format(component)\n",
    "        if type_ == \"double _Complex\":\n",
    "            type_ = '{:s}_complex_double'.format(component)            \n",
    "        if a['pointer']:\n",
    "            arg_list += type_ + \" *\" + a['name']\n",
    "            arg_list_void += \"void *\" + a['name']\n",
    "            call_list_void += \"(void *) \" + a['name']\n",
    "        else:\n",
    "            arg_list += type_ + \" \" + a['name']\n",
    "            arg_list_void += a['type'] + \" \" + a['name']\n",
    "            call_list_void += a['name']\n",
    "    if len(arg_list) == 0:\n",
    "        arg_list = \"void\"\n",
    "    if len(arg_list) == 0:\n",
    "        arg_list = \"void\"\n",
    "    if len(arg_list_void) == 0:\n",
    "        arg_list_void = \"void\"\n",
    "    h += \"    \"+ header.format(\n",
    "                      return_type = return_type,\n",
    "                      function_name = function_name, \n",
    "                      FUNCTION_NAME = FUNCTION_NAME, \n",
    "                      arg_list = arg_list, \n",
    "                      component = component) + \"\\n\"\n",
    "    alt_names = \"\"\n",
    "    for alt in y[\"alt_names\"]:\n",
    "        alt_name = alt;\n",
    "        ALT_NAME = alt.upper();\n",
    "        \n",
    "        alt_names += alt_body.format(\n",
    "                                    return_type = return_type,\n",
    "                                    function_name = alt_name, \n",
    "                                    FUNCTION_NAME = ALT_NAME,\n",
    "                                    function_name_orig = function_name,\n",
    "                                    FUNCTION_NAME_ORIG = function_name.upper(),\n",
    "                                    arg_list = arg_list,\n",
    "                                    arg_list_void = arg_list_void, \n",
    "                                    call_list_void = call_list_void, \n",
    "                                    component = component) + \"\\n\"\n",
    "        h += \"    \" + header.format(\n",
    "                      return_type = return_type,\n",
    "                      function_name = alt_name, \n",
    "                      FUNCTION_NAME = ALT_NAME, \n",
    "                      arg_list = arg_list, \n",
    "                      component = component) + \"\\n\"\n",
    "        \n",
    "    hook_header = hook_header.format(\n",
    "                      return_type = return_type,\n",
    "                      function_name = function_name, \n",
    "                      FUNCTION_NAME = FUNCTION_NAME, \n",
    "                      arg_list = arg_list,\n",
    "                      arg_list_void = arg_list_void, \n",
    "                      call_list_void = call_list_void,\n",
    "                      component = component)\n",
    "    return body.format(\n",
    "                      return_type = return_type,\n",
    "                      function_name = function_name, \n",
    "                      FUNCTION_NAME = FUNCTION_NAME, \n",
    "                      arg_list = arg_list,\n",
    "                      arg_list_void = arg_list_void, \n",
    "                      call_list_void = call_list_void,\n",
    "                      component = component) + alt_names, h, hook_header\n"
   ]
  },
  {
   "cell_type": "code",
   "execution_count": 8,
   "id": "6db01297-0996-4023-885c-441b7657579b",
   "metadata": {
    "editable": true,
    "slideshow": {
     "slide_type": ""
    },
    "tags": []
   },
   "outputs": [],
   "source": [
    "\n",
    "def load_yaml(inp):\n",
    "    with open(inp,'r') as istream:\n",
    "        y =  yaml.load(istream, Loader=Loader)\n",
    "    return y\n",
    "\n",
    "def generate_all(inputs, outputs, ignore = list(), component = \"blas\"):\n",
    "    year = datetime.date.today().year\n",
    "    fp_gnu   = open(outputs[\"gnu_wrapper\"],'w')\n",
    "    fp_intel = open(outputs[\"intel_wrapper\"], 'w')\n",
    "    fp_gnu.write(generate_file_header() + \"\\n\")\n",
    "    fp_intel.write(generate_file_header() + \"\\n\")\n",
    "\n",
    "    loader_code = \"\"\n",
    "    hook_loader_code = \"\"\n",
    "    loader_fallback_code = \"\"\n",
    "    gnu_header_body = \"\" \n",
    "    intel_header_body = \"\"\n",
    "    hook_header_body =\"\"\n",
    "\n",
    "    struct_code = \"\"\n",
    "    struct_template = \"    flexiblas_blasfn {function_name:s};\\n\"\n",
    "  \n",
    "    # r = process_map(load_yaml, inputs, max_workers = n_cores, chunksize=1)\n",
    "    r = load_yaml(inputs)\n",
    "    for y in tqdm(r):\n",
    "        # print(\"Generate Code for {}.\".format(y[0]['name']))\n",
    "        name = y[\"name\"]\n",
    "        if name in ignore: \n",
    "            continue\n",
    "            \n",
    "        gnu_str, gnu_header, hook_header = generate_subroutine(y, intel_interface = False, component = component)\n",
    "        intel_str, intel_header, _ = generate_subroutine(y, intel_interface = True, component = component)\n",
    "        fp_gnu.write(gnu_str)\n",
    "        fp_intel.write(intel_str)\n",
    "        loader_code += generate_loader_snippet(y, component = component) + \"\\n\\n\"\n",
    "        hook_loader_code += generate_hook_loader_snippet(y) + \"\\n\" ; \n",
    "        if component == \"lapack\":\n",
    "            loader_fallback_code += generate_loader_snippet(y, component = component, fallback=True) + \"\\n\\n\"\n",
    "        gnu_header_body += gnu_header\n",
    "        intel_header_body += intel_header\n",
    "        hook_header_body += hook_header + '\\n'\n",
    "        struct_code += struct_template.format(function_name = name)\n",
    "\n",
    "\n",
    "    fp_gnu.write(loader_function_body.format(body = loader_code, component = component)+\"\\n\\n\")\n",
    "    fp_intel.write(loader_function_body.format(body = loader_code,component = component)+\"\\n\\n\")\n",
    "    if len(loader_fallback_code) > 1:\n",
    "        fp_gnu.write(loader_function_body.format(body = loader_fallback_code, component = component+\"_fallback\")+\"\\n\\n\")\n",
    "        fp_intel.write(loader_function_body.format(body = loader_fallback_code,component = component+\"_fallback\")+\"\\n\\n\")\n",
    "    fp_gnu.write(hook_loader_function_body.format(component = component, body = hook_loader_code)+\"\\n\\n\")\n",
    "    fp_intel.write(hook_loader_function_body.format(component = component, body = hook_loader_code)+\"\\n\\n\")\n",
    "    fp_gnu.close()\n",
    "    fp_intel.close()\n",
    "\n",
    "    fp_gnu_header = open(outputs[\"gnu_header\"],'w')\n",
    "    fp_intel_header = open(outputs[\"intel_header\"],'w')\n",
    "\n",
    "    fp_gnu_header.write(header_code_tmpl.format(\n",
    "                        year = datetime.date.today().year, \n",
    "                        guard_name = outputs[\"header_guard\"], \n",
    "                        body = gnu_header_body))\n",
    "    fp_intel_header.write(header_code_tmpl.format(\n",
    "                        year = datetime.date.today().year, \n",
    "                        guard_name = outputs[\"header_guard\"], \n",
    "                        body = intel_header_body))\n",
    "    fp_gnu_header.close()\n",
    "    fp_intel_header.close()\n",
    "\n",
    "    fp_hook_header = open (outputs[\"real_call_header\" ],'w')\n",
    "    fp_hook_header.write(header_code_tmpl.format(\n",
    "                        year = datetime.date.today().year, \n",
    "                        guard_name = outputs[\"real_call_header_guard\" ], \n",
    "                        body = hook_header_body))\n",
    "    fp_hook_header.close()\n",
    "\n",
    "    if \"structure_file\" in outputs:\n",
    "        fp = open(outputs[\"structure_file\"], \"w\")\n",
    "        fp.write(blas_structure_tmpl.format(body = struct_code,\n",
    "                           year = year,\n",
    "                           guard_name = \"BLAS_STRUCTURE_H\"))\n",
    "        fp.close()\n"
   ]
  },
  {
   "cell_type": "code",
   "execution_count": 9,
   "id": "c4b460ba-34b4-40a4-a7ad-87fc692dfb45",
   "metadata": {},
   "outputs": [
    {
     "name": "stdout",
     "output_type": "stream",
     "text": [
      "Generate BLAS Wrappers\n"
     ]
    },
    {
     "name": "stderr",
     "output_type": "stream",
     "text": [
      "100%|███████████████████████████████████████████████████████████████████████████████████████████████████████████████████████████████████████████████████████████████████████████████████████████████████████████████████████████████████████████████████████████████████████████████████████████████████████████████████████████████████████████████████████████████████████████████████████| 166/166 [00:00<00:00, 10058.14it/s]\n"
     ]
    }
   ],
   "source": [
    "# Generate BLAS \n",
    "inputs = glob.glob('./blas/yaml/*.yaml')\n",
    "inputs.sort()\n",
    "\n",
    "outputs = dict()\n",
    "outputs[\"gnu_wrapper\"] = base + 'src/wrapper_blas_gnu.c'\n",
    "outputs[\"intel_wrapper\"] = base + 'src/wrapper_blas_intel.c'\n",
    "outputs[\"gnu_header\"] = base + '/include/blas_gnu.h'\n",
    "outputs[\"intel_header\"] = base + '/include/blas_intel.h'\n",
    "outputs[\"structure_file\"] = base + \"/src/flexiblas_structure_blas.h\"\n",
    "outputs[\"header_guard\"] = \"BLAS_H\"\n",
    "outputs[\"real_call_header\" ] = base + '/src/flexiblas_real_calls.h'\n",
    "outputs[\"real_call_header_guard\" ] = \"FLEXIBLAS_REAL_BLAS_CALLS_H\"\n",
    "print(\"Generate BLAS Wrappers\")\n",
    "generate_all('./blas/yaml.yaml', outputs)"
   ]
  },
  {
   "cell_type": "code",
   "execution_count": 10,
   "id": "efd53d39-fdaa-4b3a-bb47-91c0874bcd79",
   "metadata": {},
   "outputs": [
    {
     "name": "stdout",
     "output_type": "stream",
     "text": [
      "Generate Structure File for LAPACK 3.12.1\n"
     ]
    },
    {
     "name": "stderr",
     "output_type": "stream",
     "text": [
      "100%|████████████████████████████████████████████████████████████████████████████████████████████████████████████████████████████████████████████████████████████████████████████████████████████████████████████████████████████████████████████████████████████████████████████████████████████████████████████████████████████████████████████████████████████████████████████████████| 2112/2112 [00:00<00:00, 393268.37it/s]\n"
     ]
    },
    {
     "name": "stdout",
     "output_type": "stream",
     "text": [
      "Generate Wrapper for LAPACK 3.12.1\n"
     ]
    },
    {
     "name": "stderr",
     "output_type": "stream",
     "text": [
      "100%|██████████████████████████████████████████████████████████████████████████████████████████████████████████████████████████████████████████████████████████████████████████████████████████████████████████████████████████████████████████████████████████████████████████████████████████████████████████████████████████████████████████████████████████████████████████████████████| 2112/2112 [00:00<00:00, 8620.00it/s]\n"
     ]
    },
    {
     "name": "stdout",
     "output_type": "stream",
     "text": [
      "Generate Structure File for LAPACK 3.12.1-wodprc\n"
     ]
    },
    {
     "name": "stderr",
     "output_type": "stream",
     "text": [
      "100%|████████████████████████████████████████████████████████████████████████████████████████████████████████████████████████████████████████████████████████████████████████████████████████████████████████████████████████████████████████████████████████████████████████████████████████████████████████████████████████████████████████████████████████████████████████████████████| 2068/2068 [00:00<00:00, 379914.18it/s]\n"
     ]
    },
    {
     "name": "stdout",
     "output_type": "stream",
     "text": [
      "Generate Wrapper for LAPACK 3.12.1-wodprc\n"
     ]
    },
    {
     "name": "stderr",
     "output_type": "stream",
     "text": [
      "100%|██████████████████████████████████████████████████████████████████████████████████████████████████████████████████████████████████████████████████████████████████████████████████████████████████████████████████████████████████████████████████████████████████████████████████████████████████████████████████████████████████████████████████████████████████████████████████████| 2068/2068 [00:00<00:00, 7543.40it/s]\n"
     ]
    },
    {
     "name": "stdout",
     "output_type": "stream",
     "text": [
      "Generate Structure File for LAPACK 3.12.0\n"
     ]
    },
    {
     "name": "stderr",
     "output_type": "stream",
     "text": [
      "100%|████████████████████████████████████████████████████████████████████████████████████████████████████████████████████████████████████████████████████████████████████████████████████████████████████████████████████████████████████████████████████████████████████████████████████████████████████████████████████████████████████████████████████████████████████████████████████| 2104/2104 [00:00<00:00, 375588.00it/s]\n"
     ]
    },
    {
     "name": "stdout",
     "output_type": "stream",
     "text": [
      "Generate Wrapper for LAPACK 3.12.0\n"
     ]
    },
    {
     "name": "stderr",
     "output_type": "stream",
     "text": [
      "100%|██████████████████████████████████████████████████████████████████████████████████████████████████████████████████████████████████████████████████████████████████████████████████████████████████████████████████████████████████████████████████████████████████████████████████████████████████████████████████████████████████████████████████████████████████████████████████████| 2104/2104 [00:00<00:00, 8649.77it/s]\n"
     ]
    },
    {
     "name": "stdout",
     "output_type": "stream",
     "text": [
      "Generate Structure File for LAPACK 3.12.0-wodprc\n"
     ]
    },
    {
     "name": "stderr",
     "output_type": "stream",
     "text": [
      "100%|████████████████████████████████████████████████████████████████████████████████████████████████████████████████████████████████████████████████████████████████████████████████████████████████████████████████████████████████████████████████████████████████████████████████████████████████████████████████████████████████████████████████████████████████████████████████████| 2060/2060 [00:00<00:00, 385416.46it/s]\n"
     ]
    },
    {
     "name": "stdout",
     "output_type": "stream",
     "text": [
      "Generate Wrapper for LAPACK 3.12.0-wodprc\n"
     ]
    },
    {
     "name": "stderr",
     "output_type": "stream",
     "text": [
      "100%|██████████████████████████████████████████████████████████████████████████████████████████████████████████████████████████████████████████████████████████████████████████████████████████████████████████████████████████████████████████████████████████████████████████████████████████████████████████████████████████████████████████████████████████████████████████████████████| 2060/2060 [00:00<00:00, 9953.89it/s]\n"
     ]
    },
    {
     "name": "stdout",
     "output_type": "stream",
     "text": [
      "Generate Structure File for LAPACK 3.11.0\n"
     ]
    },
    {
     "name": "stderr",
     "output_type": "stream",
     "text": [
      "100%|████████████████████████████████████████████████████████████████████████████████████████████████████████████████████████████████████████████████████████████████████████████████████████████████████████████████████████████████████████████████████████████████████████████████████████████████████████████████████████████████████████████████████████████████████████████████████| 2074/2074 [00:00<00:00, 377527.41it/s]\n"
     ]
    },
    {
     "name": "stdout",
     "output_type": "stream",
     "text": [
      "Generate Wrapper for LAPACK 3.11.0\n"
     ]
    },
    {
     "name": "stderr",
     "output_type": "stream",
     "text": [
      "100%|██████████████████████████████████████████████████████████████████████████████████████████████████████████████████████████████████████████████████████████████████████████████████████████████████████████████████████████████████████████████████████████████████████████████████████████████████████████████████████████████████████████████████████████████████████████████████████| 2074/2074 [00:00<00:00, 5800.52it/s]\n"
     ]
    },
    {
     "name": "stdout",
     "output_type": "stream",
     "text": [
      "Generate Structure File for LAPACK 3.11.0-wodprc\n"
     ]
    },
    {
     "name": "stderr",
     "output_type": "stream",
     "text": [
      "100%|████████████████████████████████████████████████████████████████████████████████████████████████████████████████████████████████████████████████████████████████████████████████████████████████████████████████████████████████████████████████████████████████████████████████████████████████████████████████████████████████████████████████████████████████████████████████████| 2038/2038 [00:00<00:00, 371942.89it/s]\n"
     ]
    },
    {
     "name": "stdout",
     "output_type": "stream",
     "text": [
      "Generate Wrapper for LAPACK 3.11.0-wodprc\n"
     ]
    },
    {
     "name": "stderr",
     "output_type": "stream",
     "text": [
      "100%|██████████████████████████████████████████████████████████████████████████████████████████████████████████████████████████████████████████████████████████████████████████████████████████████████████████████████████████████████████████████████████████████████████████████████████████████████████████████████████████████████████████████████████████████████████████████████████| 2038/2038 [00:00<00:00, 7113.34it/s]\n"
     ]
    },
    {
     "name": "stdout",
     "output_type": "stream",
     "text": [
      "Generate Structure File for LAPACK 3.10.1\n"
     ]
    },
    {
     "name": "stderr",
     "output_type": "stream",
     "text": [
      "100%|████████████████████████████████████████████████████████████████████████████████████████████████████████████████████████████████████████████████████████████████████████████████████████████████████████████████████████████████████████████████████████████████████████████████████████████████████████████████████████████████████████████████████████████████████████████████████| 2060/2060 [00:00<00:00, 346150.64it/s]\n"
     ]
    },
    {
     "name": "stdout",
     "output_type": "stream",
     "text": [
      "Generate Wrapper for LAPACK 3.10.1\n"
     ]
    },
    {
     "name": "stderr",
     "output_type": "stream",
     "text": [
      "100%|██████████████████████████████████████████████████████████████████████████████████████████████████████████████████████████████████████████████████████████████████████████████████████████████████████████████████████████████████████████████████████████████████████████████████████████████████████████████████████████████████████████████████████████████████████████████████████| 2060/2060 [00:00<00:00, 8942.81it/s]\n"
     ]
    },
    {
     "name": "stdout",
     "output_type": "stream",
     "text": [
      "Generate Structure File for LAPACK 3.10.1-wodprc\n"
     ]
    },
    {
     "name": "stderr",
     "output_type": "stream",
     "text": [
      "100%|████████████████████████████████████████████████████████████████████████████████████████████████████████████████████████████████████████████████████████████████████████████████████████████████████████████████████████████████████████████████████████████████████████████████████████████████████████████████████████████████████████████████████████████████████████████████████| 2024/2024 [00:00<00:00, 390383.12it/s]\n"
     ]
    },
    {
     "name": "stdout",
     "output_type": "stream",
     "text": [
      "Generate Wrapper for LAPACK 3.10.1-wodprc\n"
     ]
    },
    {
     "name": "stderr",
     "output_type": "stream",
     "text": [
      "100%|█████████████████████████████████████████████████████████████████████████████████████████████████████████████████████████████████████████████████████████████████████████████████████████████████████████████████████████████████████████████████████████████████████████████████████████████████████████████████████████████████████████████████████████████████████████████████████| 2024/2024 [00:00<00:00, 10467.57it/s]\n"
     ]
    },
    {
     "name": "stdout",
     "output_type": "stream",
     "text": [
      "Generate Structure File for LAPACK 3.10.0\n"
     ]
    },
    {
     "name": "stderr",
     "output_type": "stream",
     "text": [
      "100%|████████████████████████████████████████████████████████████████████████████████████████████████████████████████████████████████████████████████████████████████████████████████████████████████████████████████████████████████████████████████████████████████████████████████████████████████████████████████████████████████████████████████████████████████████████████████████| 2060/2060 [00:00<00:00, 396597.18it/s]\n"
     ]
    },
    {
     "name": "stdout",
     "output_type": "stream",
     "text": [
      "Generate Wrapper for LAPACK 3.10.0\n"
     ]
    },
    {
     "name": "stderr",
     "output_type": "stream",
     "text": [
      "100%|█████████████████████████████████████████████████████████████████████████████████████████████████████████████████████████████████████████████████████████████████████████████████████████████████████████████████████████████████████████████████████████████████████████████████████████████████████████████████████████████████████████████████████████████████████████████████████| 2060/2060 [00:00<00:00, 10655.20it/s]\n"
     ]
    },
    {
     "name": "stdout",
     "output_type": "stream",
     "text": [
      "Generate Structure File for LAPACK 3.10.0-wodprc\n"
     ]
    },
    {
     "name": "stderr",
     "output_type": "stream",
     "text": [
      "100%|████████████████████████████████████████████████████████████████████████████████████████████████████████████████████████████████████████████████████████████████████████████████████████████████████████████████████████████████████████████████████████████████████████████████████████████████████████████████████████████████████████████████████████████████████████████████████| 2024/2024 [00:00<00:00, 205079.63it/s]\n"
     ]
    },
    {
     "name": "stdout",
     "output_type": "stream",
     "text": [
      "Generate Wrapper for LAPACK 3.10.0-wodprc\n"
     ]
    },
    {
     "name": "stderr",
     "output_type": "stream",
     "text": [
      "100%|█████████████████████████████████████████████████████████████████████████████████████████████████████████████████████████████████████████████████████████████████████████████████████████████████████████████████████████████████████████████████████████████████████████████████████████████████████████████████████████████████████████████████████████████████████████████████████| 2024/2024 [00:00<00:00, 10875.96it/s]\n"
     ]
    },
    {
     "name": "stdout",
     "output_type": "stream",
     "text": [
      "Generate Structure File for LAPACK 3.9.1\n"
     ]
    },
    {
     "name": "stderr",
     "output_type": "stream",
     "text": [
      "100%|████████████████████████████████████████████████████████████████████████████████████████████████████████████████████████████████████████████████████████████████████████████████████████████████████████████████████████████████████████████████████████████████████████████████████████████████████████████████████████████████████████████████████████████████████████████████████| 2042/2042 [00:00<00:00, 385453.14it/s]\n"
     ]
    },
    {
     "name": "stdout",
     "output_type": "stream",
     "text": [
      "Generate Wrapper for LAPACK 3.9.1\n"
     ]
    },
    {
     "name": "stderr",
     "output_type": "stream",
     "text": [
      "100%|█████████████████████████████████████████████████████████████████████████████████████████████████████████████████████████████████████████████████████████████████████████████████████████████████████████████████████████████████████████████████████████████████████████████████████████████████████████████████████████████████████████████████████████████████████████████████████| 2042/2042 [00:00<00:00, 11309.13it/s]\n"
     ]
    },
    {
     "name": "stdout",
     "output_type": "stream",
     "text": [
      "Generate Structure File for LAPACK 3.9.1-wodprc\n"
     ]
    },
    {
     "name": "stderr",
     "output_type": "stream",
     "text": [
      "100%|████████████████████████████████████████████████████████████████████████████████████████████████████████████████████████████████████████████████████████████████████████████████████████████████████████████████████████████████████████████████████████████████████████████████████████████████████████████████████████████████████████████████████████████████████████████████████| 2006/2006 [00:00<00:00, 385069.74it/s]\n"
     ]
    },
    {
     "name": "stdout",
     "output_type": "stream",
     "text": [
      "Generate Wrapper for LAPACK 3.9.1-wodprc\n"
     ]
    },
    {
     "name": "stderr",
     "output_type": "stream",
     "text": [
      "100%|██████████████████████████████████████████████████████████████████████████████████████████████████████████████████████████████████████████████████████████████████████████████████████████████████████████████████████████████████████████████████████████████████████████████████████████████████████████████████████████████████████████████████████████████████████████████████████| 2006/2006 [00:00<00:00, 4948.34it/s]\n"
     ]
    },
    {
     "name": "stdout",
     "output_type": "stream",
     "text": [
      "Generate Structure File for LAPACK 3.9.0\n"
     ]
    },
    {
     "name": "stderr",
     "output_type": "stream",
     "text": [
      "100%|████████████████████████████████████████████████████████████████████████████████████████████████████████████████████████████████████████████████████████████████████████████████████████████████████████████████████████████████████████████████████████████████████████████████████████████████████████████████████████████████████████████████████████████████████████████████████| 2030/2030 [00:00<00:00, 246695.17it/s]\n"
     ]
    },
    {
     "name": "stdout",
     "output_type": "stream",
     "text": [
      "Generate Wrapper for LAPACK 3.9.0\n"
     ]
    },
    {
     "name": "stderr",
     "output_type": "stream",
     "text": [
      "100%|██████████████████████████████████████████████████████████████████████████████████████████████████████████████████████████████████████████████████████████████████████████████████████████████████████████████████████████████████████████████████████████████████████████████████████████████████████████████████████████████████████████████████████████████████████████████████████| 2030/2030 [00:00<00:00, 8259.90it/s]\n"
     ]
    },
    {
     "name": "stdout",
     "output_type": "stream",
     "text": [
      "Generate Structure File for LAPACK 3.9.0-wodprc\n"
     ]
    },
    {
     "name": "stderr",
     "output_type": "stream",
     "text": [
      "100%|████████████████████████████████████████████████████████████████████████████████████████████████████████████████████████████████████████████████████████████████████████████████████████████████████████████████████████████████████████████████████████████████████████████████████████████████████████████████████████████████████████████████████████████████████████████████████| 1994/1994 [00:00<00:00, 322887.89it/s]\n"
     ]
    },
    {
     "name": "stdout",
     "output_type": "stream",
     "text": [
      "Generate Wrapper for LAPACK 3.9.0-wodprc\n"
     ]
    },
    {
     "name": "stderr",
     "output_type": "stream",
     "text": [
      "100%|█████████████████████████████████████████████████████████████████████████████████████████████████████████████████████████████████████████████████████████████████████████████████████████████████████████████████████████████████████████████████████████████████████████████████████████████████████████████████████████████████████████████████████████████████████████████████████| 1994/1994 [00:00<00:00, 12093.33it/s]\n"
     ]
    },
    {
     "name": "stdout",
     "output_type": "stream",
     "text": [
      "Generate Structure File for LAPACK 3.8.0\n"
     ]
    },
    {
     "name": "stderr",
     "output_type": "stream",
     "text": [
      "100%|████████████████████████████████████████████████████████████████████████████████████████████████████████████████████████████████████████████████████████████████████████████████████████████████████████████████████████████████████████████████████████████████████████████████████████████████████████████████████████████████████████████████████████████████████████████████████| 2008/2008 [00:00<00:00, 385577.18it/s]\n"
     ]
    },
    {
     "name": "stdout",
     "output_type": "stream",
     "text": [
      "Generate Wrapper for LAPACK 3.8.0\n"
     ]
    },
    {
     "name": "stderr",
     "output_type": "stream",
     "text": [
      "100%|██████████████████████████████████████████████████████████████████████████████████████████████████████████████████████████████████████████████████████████████████████████████████████████████████████████████████████████████████████████████████████████████████████████████████████████████████████████████████████████████████████████████████████████████████████████████████████| 2008/2008 [00:00<00:00, 9063.26it/s]\n"
     ]
    },
    {
     "name": "stdout",
     "output_type": "stream",
     "text": [
      "Generate Structure File for LAPACK 3.8.0-wodprc\n"
     ]
    },
    {
     "name": "stderr",
     "output_type": "stream",
     "text": [
      "100%|████████████████████████████████████████████████████████████████████████████████████████████████████████████████████████████████████████████████████████████████████████████████████████████████████████████████████████████████████████████████████████████████████████████████████████████████████████████████████████████████████████████████████████████████████████████████████| 1972/1972 [00:00<00:00, 331682.54it/s]\n"
     ]
    },
    {
     "name": "stdout",
     "output_type": "stream",
     "text": [
      "Generate Wrapper for LAPACK 3.8.0-wodprc\n"
     ]
    },
    {
     "name": "stderr",
     "output_type": "stream",
     "text": [
      "100%|██████████████████████████████████████████████████████████████████████████████████████████████████████████████████████████████████████████████████████████████████████████████████████████████████████████████████████████████████████████████████████████████████████████████████████████████████████████████████████████████████████████████████████████████████████████████████████| 1972/1972 [00:00<00:00, 8932.45it/s]\n"
     ]
    },
    {
     "name": "stdout",
     "output_type": "stream",
     "text": [
      "Generate Structure File for LAPACK 3.7.1\n"
     ]
    },
    {
     "name": "stderr",
     "output_type": "stream",
     "text": [
      "100%|████████████████████████████████████████████████████████████████████████████████████████████████████████████████████████████████████████████████████████████████████████████████████████████████████████████████████████████████████████████████████████████████████████████████████████████████████████████████████████████████████████████████████████████████████████████████████| 1989/1989 [00:00<00:00, 378411.99it/s]\n"
     ]
    },
    {
     "name": "stdout",
     "output_type": "stream",
     "text": [
      "Generate Wrapper for LAPACK 3.7.1\n"
     ]
    },
    {
     "name": "stderr",
     "output_type": "stream",
     "text": [
      "100%|█████████████████████████████████████████████████████████████████████████████████████████████████████████████████████████████████████████████████████████████████████████████████████████████████████████████████████████████████████████████████████████████████████████████████████████████████████████████████████████████████████████████████████████████████████████████████████| 1989/1989 [00:00<00:00, 11275.73it/s]\n"
     ]
    },
    {
     "name": "stdout",
     "output_type": "stream",
     "text": [
      "Generate Structure File for LAPACK 3.7.1-wodprc\n"
     ]
    },
    {
     "name": "stderr",
     "output_type": "stream",
     "text": [
      "100%|████████████████████████████████████████████████████████████████████████████████████████████████████████████████████████████████████████████████████████████████████████████████████████████████████████████████████████████████████████████████████████████████████████████████████████████████████████████████████████████████████████████████████████████████████████████████████| 1953/1953 [00:00<00:00, 345355.02it/s]\n"
     ]
    },
    {
     "name": "stdout",
     "output_type": "stream",
     "text": [
      "Generate Wrapper for LAPACK 3.7.1-wodprc\n"
     ]
    },
    {
     "name": "stderr",
     "output_type": "stream",
     "text": [
      "100%|█████████████████████████████████████████████████████████████████████████████████████████████████████████████████████████████████████████████████████████████████████████████████████████████████████████████████████████████████████████████████████████████████████████████████████████████████████████████████████████████████████████████████████████████████████████████████████| 1953/1953 [00:00<00:00, 11573.26it/s]\n"
     ]
    },
    {
     "name": "stdout",
     "output_type": "stream",
     "text": [
      "Generate Structure File for LAPACK 3.7.0\n"
     ]
    },
    {
     "name": "stderr",
     "output_type": "stream",
     "text": [
      "100%|████████████████████████████████████████████████████████████████████████████████████████████████████████████████████████████████████████████████████████████████████████████████████████████████████████████████████████████████████████████████████████████████████████████████████████████████████████████████████████████████████████████████████████████████████████████████████| 1989/1989 [00:00<00:00, 307908.42it/s]\n"
     ]
    },
    {
     "name": "stdout",
     "output_type": "stream",
     "text": [
      "Generate Wrapper for LAPACK 3.7.0\n"
     ]
    },
    {
     "name": "stderr",
     "output_type": "stream",
     "text": [
      "100%|█████████████████████████████████████████████████████████████████████████████████████████████████████████████████████████████████████████████████████████████████████████████████████████████████████████████████████████████████████████████████████████████████████████████████████████████████████████████████████████████████████████████████████████████████████████████████████| 1989/1989 [00:00<00:00, 10012.43it/s]\n"
     ]
    },
    {
     "name": "stdout",
     "output_type": "stream",
     "text": [
      "Generate Structure File for LAPACK 3.7.0-wodprc\n"
     ]
    },
    {
     "name": "stderr",
     "output_type": "stream",
     "text": [
      "100%|████████████████████████████████████████████████████████████████████████████████████████████████████████████████████████████████████████████████████████████████████████████████████████████████████████████████████████████████████████████████████████████████████████████████████████████████████████████████████████████████████████████████████████████████████████████████████| 1953/1953 [00:00<00:00, 257181.12it/s]\n"
     ]
    },
    {
     "name": "stdout",
     "output_type": "stream",
     "text": [
      "Generate Wrapper for LAPACK 3.7.0-wodprc\n"
     ]
    },
    {
     "name": "stderr",
     "output_type": "stream",
     "text": [
      "100%|█████████████████████████████████████████████████████████████████████████████████████████████████████████████████████████████████████████████████████████████████████████████████████████████████████████████████████████████████████████████████████████████████████████████████████████████████████████████████████████████████████████████████████████████████████████████████████| 1953/1953 [00:00<00:00, 10713.30it/s]\n"
     ]
    },
    {
     "name": "stdout",
     "output_type": "stream",
     "text": [
      "Generate Structure File for LAPACK 3.6.1\n"
     ]
    },
    {
     "name": "stderr",
     "output_type": "stream",
     "text": [
      "100%|████████████████████████████████████████████████████████████████████████████████████████████████████████████████████████████████████████████████████████████████████████████████████████████████████████████████████████████████████████████████████████████████████████████████████████████████████████████████████████████████████████████████████████████████████████████████████| 1796/1796 [00:00<00:00, 385337.87it/s]\n"
     ]
    },
    {
     "name": "stdout",
     "output_type": "stream",
     "text": [
      "Generate Wrapper for LAPACK 3.6.1\n"
     ]
    },
    {
     "name": "stderr",
     "output_type": "stream",
     "text": [
      "100%|██████████████████████████████████████████████████████████████████████████████████████████████████████████████████████████████████████████████████████████████████████████████████████████████████████████████████████████████████████████████████████████████████████████████████████████████████████████████████████████████████████████████████████████████████████████████████████| 1796/1796 [00:00<00:00, 9746.60it/s]\n"
     ]
    },
    {
     "name": "stdout",
     "output_type": "stream",
     "text": [
      "Generate Structure File for LAPACK 3.6.1-wodprc\n"
     ]
    },
    {
     "name": "stderr",
     "output_type": "stream",
     "text": [
      "100%|████████████████████████████████████████████████████████████████████████████████████████████████████████████████████████████████████████████████████████████████████████████████████████████████████████████████████████████████████████████████████████████████████████████████████████████████████████████████████████████████████████████████████████████████████████████████████| 1760/1760 [00:00<00:00, 392992.71it/s]\n"
     ]
    },
    {
     "name": "stdout",
     "output_type": "stream",
     "text": [
      "Generate Wrapper for LAPACK 3.6.1-wodprc\n"
     ]
    },
    {
     "name": "stderr",
     "output_type": "stream",
     "text": [
      "100%|██████████████████████████████████████████████████████████████████████████████████████████████████████████████████████████████████████████████████████████████████████████████████████████████████████████████████████████████████████████████████████████████████████████████████████████████████████████████████████████████████████████████████████████████████████████████████████| 1760/1760 [00:00<00:00, 6647.85it/s]\n"
     ]
    },
    {
     "name": "stdout",
     "output_type": "stream",
     "text": [
      "Generate Structure File for LAPACK 3.6.0\n"
     ]
    },
    {
     "name": "stderr",
     "output_type": "stream",
     "text": [
      "100%|████████████████████████████████████████████████████████████████████████████████████████████████████████████████████████████████████████████████████████████████████████████████████████████████████████████████████████████████████████████████████████████████████████████████████████████████████████████████████████████████████████████████████████████████████████████████████| 1792/1792 [00:00<00:00, 398610.14it/s]\n"
     ]
    },
    {
     "name": "stdout",
     "output_type": "stream",
     "text": [
      "Generate Wrapper for LAPACK 3.6.0\n"
     ]
    },
    {
     "name": "stderr",
     "output_type": "stream",
     "text": [
      "100%|██████████████████████████████████████████████████████████████████████████████████████████████████████████████████████████████████████████████████████████████████████████████████████████████████████████████████████████████████████████████████████████████████████████████████████████████████████████████████████████████████████████████████████████████████████████████████████| 1792/1792 [00:00<00:00, 9264.00it/s]\n"
     ]
    },
    {
     "name": "stdout",
     "output_type": "stream",
     "text": [
      "Generate Structure File for LAPACK 3.6.0-wodprc\n"
     ]
    },
    {
     "name": "stderr",
     "output_type": "stream",
     "text": [
      "100%|████████████████████████████████████████████████████████████████████████████████████████████████████████████████████████████████████████████████████████████████████████████████████████████████████████████████████████████████████████████████████████████████████████████████████████████████████████████████████████████████████████████████████████████████████████████████████| 1756/1756 [00:00<00:00, 395978.38it/s]\n"
     ]
    },
    {
     "name": "stdout",
     "output_type": "stream",
     "text": [
      "Generate Wrapper for LAPACK 3.6.0-wodprc\n"
     ]
    },
    {
     "name": "stderr",
     "output_type": "stream",
     "text": [
      "100%|██████████████████████████████████████████████████████████████████████████████████████████████████████████████████████████████████████████████████████████████████████████████████████████████████████████████████████████████████████████████████████████████████████████████████████████████████████████████████████████████████████████████████████████████████████████████████████| 1756/1756 [00:00<00:00, 9176.59it/s]\n"
     ]
    },
    {
     "name": "stdout",
     "output_type": "stream",
     "text": [
      "Generate Structure File for LAPACK 3.5.0\n"
     ]
    },
    {
     "name": "stderr",
     "output_type": "stream",
     "text": [
      "100%|████████████████████████████████████████████████████████████████████████████████████████████████████████████████████████████████████████████████████████████████████████████████████████████████████████████████████████████████████████████████████████████████████████████████████████████████████████████████████████████████████████████████████████████████████████████████████| 1746/1746 [00:00<00:00, 361428.03it/s]\n"
     ]
    },
    {
     "name": "stdout",
     "output_type": "stream",
     "text": [
      "Generate Wrapper for LAPACK 3.5.0\n"
     ]
    },
    {
     "name": "stderr",
     "output_type": "stream",
     "text": [
      "100%|██████████████████████████████████████████████████████████████████████████████████████████████████████████████████████████████████████████████████████████████████████████████████████████████████████████████████████████████████████████████████████████████████████████████████████████████████████████████████████████████████████████████████████████████████████████████████████| 1746/1746 [00:00<00:00, 6955.02it/s]\n"
     ]
    },
    {
     "name": "stdout",
     "output_type": "stream",
     "text": [
      "Generate Structure File for LAPACK 3.4.2\n"
     ]
    },
    {
     "name": "stderr",
     "output_type": "stream",
     "text": [
      "100%|████████████████████████████████████████████████████████████████████████████████████████████████████████████████████████████████████████████████████████████████████████████████████████████████████████████████████████████████████████████████████████████████████████████████████████████████████████████████████████████████████████████████████████████████████████████████████| 1672/1672 [00:00<00:00, 380390.34it/s]\n"
     ]
    },
    {
     "name": "stdout",
     "output_type": "stream",
     "text": [
      "Generate Wrapper for LAPACK 3.4.2\n"
     ]
    },
    {
     "name": "stderr",
     "output_type": "stream",
     "text": [
      "100%|██████████████████████████████████████████████████████████████████████████████████████████████████████████████████████████████████████████████████████████████████████████████████████████████████████████████████████████████████████████████████████████████████████████████████████████████████████████████████████████████████████████████████████████████████████████████████████| 1672/1672 [00:00<00:00, 7609.85it/s]\n"
     ]
    },
    {
     "name": "stdout",
     "output_type": "stream",
     "text": [
      "Generate Structure File for LAPACK 3.4.1\n"
     ]
    },
    {
     "name": "stderr",
     "output_type": "stream",
     "text": [
      "100%|████████████████████████████████████████████████████████████████████████████████████████████████████████████████████████████████████████████████████████████████████████████████████████████████████████████████████████████████████████████████████████████████████████████████████████████████████████████████████████████████████████████████████████████████████████████████████| 1672/1672 [00:00<00:00, 138043.31it/s]\n"
     ]
    },
    {
     "name": "stdout",
     "output_type": "stream",
     "text": [
      "Generate Wrapper for LAPACK 3.4.1\n"
     ]
    },
    {
     "name": "stderr",
     "output_type": "stream",
     "text": [
      "100%|██████████████████████████████████████████████████████████████████████████████████████████████████████████████████████████████████████████████████████████████████████████████████████████████████████████████████████████████████████████████████████████████████████████████████████████████████████████████████████████████████████████████████████████████████████████████████████| 1672/1672 [00:00<00:00, 6522.28it/s]\n"
     ]
    },
    {
     "name": "stdout",
     "output_type": "stream",
     "text": [
      "Generate Structure File for LAPACK 3.4.0\n"
     ]
    },
    {
     "name": "stderr",
     "output_type": "stream",
     "text": [
      "100%|████████████████████████████████████████████████████████████████████████████████████████████████████████████████████████████████████████████████████████████████████████████████████████████████████████████████████████████████████████████████████████████████████████████████████████████████████████████████████████████████████████████████████████████████████████████████████| 1672/1672 [00:00<00:00, 239461.73it/s]\n"
     ]
    },
    {
     "name": "stdout",
     "output_type": "stream",
     "text": [
      "Generate Wrapper for LAPACK 3.4.0\n"
     ]
    },
    {
     "name": "stderr",
     "output_type": "stream",
     "text": [
      "100%|██████████████████████████████████████████████████████████████████████████████████████████████████████████████████████████████████████████████████████████████████████████████████████████████████████████████████████████████████████████████████████████████████████████████████████████████████████████████████████████████████████████████████████████████████████████████████████| 1672/1672 [00:00<00:00, 5769.27it/s]\n"
     ]
    },
    {
     "name": "stdout",
     "output_type": "stream",
     "text": [
      "Generate Structure File for LAPACK 3.3.1\n"
     ]
    },
    {
     "name": "stderr",
     "output_type": "stream",
     "text": [
      "100%|████████████████████████████████████████████████████████████████████████████████████████████████████████████████████████████████████████████████████████████████████████████████████████████████████████████████████████████████████████████████████████████████████████████████████████████████████████████████████████████████████████████████████████████████████████████████████| 1640/1640 [00:00<00:00, 236152.79it/s]\n"
     ]
    },
    {
     "name": "stdout",
     "output_type": "stream",
     "text": [
      "Generate Wrapper for LAPACK 3.3.1\n"
     ]
    },
    {
     "name": "stderr",
     "output_type": "stream",
     "text": [
      "100%|██████████████████████████████████████████████████████████████████████████████████████████████████████████████████████████████████████████████████████████████████████████████████████████████████████████████████████████████████████████████████████████████████████████████████████████████████████████████████████████████████████████████████████████████████████████████████████| 1640/1640 [00:00<00:00, 6196.48it/s]\n"
     ]
    },
    {
     "name": "stdout",
     "output_type": "stream",
     "text": [
      "Generate Structure File for LAPACK 3.3.0\n"
     ]
    },
    {
     "name": "stderr",
     "output_type": "stream",
     "text": [
      "100%|████████████████████████████████████████████████████████████████████████████████████████████████████████████████████████████████████████████████████████████████████████████████████████████████████████████████████████████████████████████████████████████████████████████████████████████████████████████████████████████████████████████████████████████████████████████████████| 1634/1634 [00:00<00:00, 296303.19it/s]\n"
     ]
    },
    {
     "name": "stdout",
     "output_type": "stream",
     "text": [
      "Generate Wrapper for LAPACK 3.3.0\n"
     ]
    },
    {
     "name": "stderr",
     "output_type": "stream",
     "text": [
      "100%|██████████████████████████████████████████████████████████████████████████████████████████████████████████████████████████████████████████████████████████████████████████████████████████████████████████████████████████████████████████████████████████████████████████████████████████████████████████████████████████████████████████████████████████████████████████████████████| 1634/1634 [00:00<00:00, 6700.81it/s]\n"
     ]
    }
   ],
   "source": [
    "# Generate LAPACK \n",
    "\n",
    "    \n",
    "def generate_lapack(version):\n",
    "    year = datetime.date.today().year\n",
    "    versionx = version.replace('.','_')\n",
    "    versionx = versionx.replace('-','_')\n",
    "    varr = version.split(\".\")\n",
    "    major = int(varr[0])\n",
    "    minor = int(varr[1])\n",
    "    varr2 = varr[2].split(\"-\")\n",
    "    patch = int(varr2[0])\n",
    "    if ( len(varr2) > 1):\n",
    "        extra = \"without deprecated\" \n",
    "    else:\n",
    "        extra = \"with deprecated\"\n",
    "\n",
    "    struct_code = \"\"\n",
    "    struct_template = \"    flexiblas_blasfn {function_name:s};\\n\"\n",
    "    \n",
    "    inputs = './lapack/yaml/'+version+'.yaml'\n",
    "    \n",
    "    try:\n",
    "        ignore_file = load_yaml('./lapack/yaml/ignore-'+version+'.yaml')\n",
    "        ignore = ignore_file[\"ignore\"]\n",
    "    except:\n",
    "        ignore = list()\n",
    "    \n",
    "    try:\n",
    "        os.makedirs(base+\"/src/lapack\")\n",
    "    except:\n",
    "        pass \n",
    "        \n",
    "    print(\"Generate Structure File for LAPACK {:s}\".format(version))\n",
    "    # r = process_map(load_yaml, inputs, max_workers = n_cores, chunksize=1)\n",
    "    r = load_yaml(inputs)\n",
    "    dummy_loader_code = \"\"; \n",
    "    for y in tqdm(r):\n",
    "        name = y[\"name\"]\n",
    "        if name in ignore:\n",
    "            continue\n",
    "        struct_code += struct_template.format(function_name = y['name'])\n",
    "        dummy_loader_code += \"    __flexiblas_lapack_addr[k++] = (void *)((size_t) &(FC_GLOBAL({:s},{:s})));\\n\".format(name, name.upper())\n",
    "        \n",
    "    fp = open(base + 'src/lapack/structure_lapack_'+versionx +'.h', 'w')\n",
    "    fp.write(structure_tmpl.format(lapack_major = major, \n",
    "                                   lapack_minor = minor, \n",
    "                                   lapack_patch = patch, \n",
    "                                   lapack_extra = extra, \n",
    "                                   body = struct_code,\n",
    "                                   year = year,\n",
    "                                   guard_name = \"LAPACK_STRUCTURE_H\"))\n",
    "    fp.close()\n",
    "    \n",
    "    outputs = dict()\n",
    "    outputs[\"gnu_wrapper\"] = base + 'src/lapack/wrapper_lapack_'+versionx+'_gnu.c'\n",
    "    outputs[\"intel_wrapper\"] = base + 'src/lapack/wrapper_lapack_'+versionx+'_intel.c'\n",
    "    outputs[\"gnu_header\"] = base + 'src/lapack/lapack_'+versionx+'_gnu.h'\n",
    "    outputs[\"intel_header\"] = base + 'src/lapack/lapack_'+versionx+'_intel.h'\n",
    "    outputs[\"header_guard\"] = \"LAPACK_H\"\n",
    "    outputs[\"real_call_header\" ] = base + 'src/lapack/flexiblas_real_lapack_'+versionx+'.h'\n",
    "    outputs[\"real_call_header_guard\" ] = \"FLEXIBLAS_REAL_LAPACK_CALLS_H\"\n",
    "\n",
    "    print(\"Generate Wrapper for LAPACK {:s}\".format(version))\n",
    "    generate_all(inputs, outputs, ignore = ignore , component = \"lapack\")\n",
    "\n",
    "    dummy_loader = '#ifdef FLEXIBLAS_ABI_GNU\\n'\n",
    "    dummy_loader += '#include \"lapack_'+versionx+'_gnu.h\"\\n'\n",
    "    dummy_loader += '#else\\n' \n",
    "    dummy_loader += '#include \"lapack_'+versionx+'_intel.h\"\\n'\n",
    "    dummy_loader += '#endif\\n' \n",
    "    dummy_loader += 'HIDDEN void *__flexiblas_lapack_addr[10240];\\n'\n",
    "    dummy_loader += 'HIDDEN void flexiblas_lapack_dummy_function_not_called(void) {\\n'\n",
    "    dummy_loader += '    size_t k = 0;\\n'\n",
    "    dummy_loader += dummy_loader_code\n",
    "    dummy_loader += '}\\n'; \n",
    "        \n",
    "    fp_dummy_loader = open (base+'/src/fallback_lapack/dummy_'+versionx+'.c','w')\n",
    "    fp_dummy_loader.write(code_file_tmpl.format(\n",
    "                        year = datetime.date.today().year, \n",
    "                        guard_name = 'DUMMY_LOADER', \n",
    "                        body = dummy_loader))\n",
    "    fp_dummy_loader.close()\n",
    "\n",
    "generate_lapack(\"3.12.1\")\n",
    "generate_lapack(\"3.12.1-wodprc\")\n",
    "generate_lapack(\"3.12.0\")\n",
    "generate_lapack(\"3.12.0-wodprc\")\n",
    "generate_lapack(\"3.11.0\")\n",
    "generate_lapack(\"3.11.0-wodprc\")\n",
    "generate_lapack(\"3.10.1\")\n",
    "generate_lapack(\"3.10.1-wodprc\")\n",
    "generate_lapack(\"3.10.0\")\n",
    "generate_lapack(\"3.10.0-wodprc\")\n",
    "generate_lapack(\"3.9.1\")\n",
    "generate_lapack(\"3.9.1-wodprc\")\n",
    "generate_lapack(\"3.9.0\")\n",
    "generate_lapack(\"3.9.0-wodprc\")\n",
    "generate_lapack(\"3.8.0\")\n",
    "generate_lapack(\"3.8.0-wodprc\")\n",
    "generate_lapack(\"3.7.1\")\n",
    "generate_lapack(\"3.7.1-wodprc\")\n",
    "generate_lapack(\"3.7.0\")\n",
    "generate_lapack(\"3.7.0-wodprc\")\n",
    "generate_lapack(\"3.6.1\")\n",
    "generate_lapack(\"3.6.1-wodprc\")\n",
    "generate_lapack(\"3.6.0\")\n",
    "generate_lapack(\"3.6.0-wodprc\")\n",
    "generate_lapack(\"3.5.0\")\n",
    "generate_lapack(\"3.4.2\")\n",
    "\n",
    "generate_lapack(\"3.4.1\")\n",
    "generate_lapack(\"3.4.0\")\n",
    "generate_lapack(\"3.3.1\")\n",
    "generate_lapack(\"3.3.0\")"
   ]
  },
  {
   "cell_type": "code",
   "execution_count": 11,
   "id": "c7188ed8-b6b0-4911-8153-cc289be7b88a",
   "metadata": {},
   "outputs": [
    {
     "name": "stdout",
     "output_type": "stream",
     "text": [
      "Generate Hook Structure\n",
      "Load blas/yaml.yaml\n",
      "Load lapack/yaml/3.6.1.yaml\n",
      "Load lapack/yaml/3.9.1-wodprc.yaml\n",
      "Load lapack/yaml/3.5.0.yaml\n",
      "Load lapack/yaml/3.6.0-wodprc.yaml\n",
      "Load lapack/yaml/3.4.0.yaml\n",
      "Load lapack/yaml/3.9.0.yaml\n",
      "Load lapack/yaml/3.12.0-wodprc.yaml\n",
      "Load lapack/yaml/3.3.0.yaml\n",
      "Load lapack/yaml/3.11.0.yaml\n",
      "Load lapack/yaml/3.9.0-wodprc.yaml\n",
      "Load lapack/yaml/3.6.1-wodprc.yaml\n",
      "Load lapack/yaml/3.7.1-wodprc.yaml\n",
      "Load lapack/yaml/3.7.0.yaml\n",
      "Load lapack/yaml/3.4.1.yaml\n",
      "Load lapack/yaml/3.10.1-wodprc.yaml\n",
      "Load lapack/yaml/3.6.0.yaml\n",
      "Load lapack/yaml/3.7.1.yaml\n",
      "Load lapack/yaml/3.11.0-wodprc.yaml\n",
      "Load lapack/yaml/3.12.0.yaml\n",
      "Load lapack/yaml/3.10.0-wodprc.yaml\n",
      "Load lapack/yaml/3.3.1.yaml\n",
      "Load lapack/yaml/3.10.1.yaml\n",
      "Load lapack/yaml/3.12.1.yaml\n",
      "Load lapack/yaml/3.7.0-wodprc.yaml\n",
      "Load lapack/yaml/3.4.2.yaml\n",
      "Load lapack/yaml/3.8.0.yaml\n",
      "Load lapack/yaml/3.8.0-wodprc.yaml\n",
      "Load lapack/yaml/3.9.1.yaml\n",
      "Load lapack/yaml/3.12.1-wodprc.yaml\n",
      "Load lapack/yaml/3.10.0.yaml\n",
      "Load lapacke/yaml/3.6.1.yaml\n",
      "Load lapacke/yaml/3.9.1-wodprc.yaml\n",
      "Load lapacke/yaml/3.6.0-wodprc.yaml\n",
      "Load lapacke/yaml/3.9.0.yaml\n",
      "Load lapacke/yaml/3.12.0-wodprc.yaml\n",
      "Load lapacke/yaml/3.11.0.yaml\n",
      "Load lapacke/yaml/3.9.0-wodprc.yaml\n",
      "Load lapacke/yaml/3.6.1-wodprc.yaml\n",
      "Load lapacke/yaml/3.7.1-wodprc.yaml\n",
      "Load lapacke/yaml/3.7.0.yaml\n",
      "Load lapacke/yaml/3.10.1-wodprc.yaml\n",
      "Load lapacke/yaml/3.6.0.yaml\n",
      "Load lapacke/yaml/3.7.1.yaml\n",
      "Load lapacke/yaml/3.11.0-wodprc.yaml\n",
      "Load lapacke/yaml/3.12.0.yaml\n",
      "Load lapacke/yaml/3.10.0-wodprc.yaml\n",
      "Load lapacke/yaml/3.10.1.yaml\n",
      "Load lapacke/yaml/3.12.1.yaml\n",
      "Load lapacke/yaml/3.7.0-wodprc.yaml\n",
      "Load lapacke/yaml/3.8.0.yaml\n",
      "Load lapacke/yaml/3.8.0-wodprc.yaml\n",
      "Load lapacke/yaml/3.9.1.yaml\n",
      "Load lapacke/yaml/3.12.1-wodprc.yaml\n",
      "Load lapacke/yaml/3.10.0.yaml\n",
      "Load cblas/yaml.yaml\n"
     ]
    }
   ],
   "source": [
    "def load_name_from_yaml(inp):\n",
    "        with open(inp,'r') as istream:\n",
    "            y =  yaml.load(istream, Loader=Loader)\n",
    "        name = y[0]['name'];\n",
    "        return name\n",
    "    \n",
    "def generate_hook_structure():\n",
    "    blas_yaml = glob.glob(\"blas/yaml.yaml\")\n",
    "    cblas_yaml = glob.glob(\"cblas/yaml.yaml\")\n",
    "    lapack_yaml = glob.glob(\"lapack/yaml/3*.yaml\")\n",
    "    lapacke_yaml = glob.glob(\"lapacke/yaml/3*.yaml\")\n",
    "\n",
    "    r = list()\n",
    "    for f in blas_yaml:\n",
    "        print(\"Load {:s}\".format(f));\n",
    "        r.extend(load_yaml(f))\n",
    "    # r = process_map(load_yaml, blas_yaml, max_workers = n_cores, chunksize=1)\n",
    "    # print(r)\n",
    "    blas_list = list(dict.fromkeys([ x['name'] for x in r]))\n",
    "    blas_list.extend([\"cdotc_sub\", \"cdotu_sub\", \"zdotc_sub\", \"zdotu_sub\"])\n",
    "\n",
    "    r2 = list()\n",
    "    for f in lapack_yaml:\n",
    "        print(\"Load {:s}\".format(f));\n",
    "        r2.extend(load_yaml(f))\n",
    "    # r2 = process_map(load_yaml, lapack_yaml, max_workers = n_cores, chunksize=1)\n",
    "    \n",
    "    lapack_list = list(dict.fromkeys([ x['name'] for x in r2]))\n",
    "\n",
    "    r3 = list()\n",
    "    for f in lapacke_yaml:\n",
    "        print(\"Load {:s}\".format(f));\n",
    "        r3.extend(load_yaml(f))\n",
    "    # r3 = process_map(load_yaml, lapacke_yaml, max_workers = n_cores, chunksize=1)\n",
    "    \n",
    "    lapacke_list = list(dict.fromkeys([ x['name'] for x in r3]))\n",
    "\n",
    "    r4 = list()\n",
    "    for f in cblas_yaml:\n",
    "        print(\"Load {:s}\".format(f));\n",
    "        r4.extend(load_yaml(f))\n",
    "    # r4 = process_map(load_yaml, cblas_yaml, max_workers = n_cores, chunksize=1)\n",
    "    \n",
    "    cblas_list = list(dict.fromkeys([ x['name'] for x in r4]))\n",
    "   \n",
    "    \n",
    "    hooks_header = read_file('templates/blas_header.tmpl')\n",
    "    year = datetime.date.today().year\n",
    "    \n",
    "    body = \"\"\"\n",
    "    #define FLEXIBLAS_MAX_HOOKS 256\n",
    "    struct flexiblas_hook_fn {\n",
    "        void *hook_function[FLEXIBLAS_MAX_HOOKS];\n",
    "        uint16_t nhook;\n",
    "    };\n",
    "    \n",
    "    typedef struct _flexiblas_hook_backend {\n",
    "        void *handles[FLEXIBLAS_MAX_HOOKS];\n",
    "        int  hooks_loaded;\n",
    "        int  initialized;\n",
    "        flexiblas_init_function_t hook_init[FLEXIBLAS_MAX_HOOKS];\n",
    "        flexiblas_exit_function_t hook_exit[FLEXIBLAS_MAX_HOOKS];\n",
    "    \"\"\"\n",
    "    \n",
    "    blas_list.sort()\n",
    "    \n",
    "    for k in blas_list:\n",
    "        body += \"    struct flexiblas_hook_fn {:s};\\n\".format(k)\n",
    "    body += \"    /* CBLAS */\\n\"; \n",
    "\n",
    "    cblas_list.sort()\n",
    "    \n",
    "    for k in cblas_list:\n",
    "        body += \"    struct flexiblas_hook_fn {:s};\\n\".format(k)\n",
    "    body += \"    /* LAPACK */\\n\"; \n",
    "\n",
    "    \n",
    "    lapack_list.sort()\n",
    "    for k in lapack_list:\n",
    "        body += \"    struct flexiblas_hook_fn {:s};\\n\".format(k)\n",
    "    body += \"    /* LAPACKE */\\n\";         \n",
    "    \n",
    "    lapacke_list.sort()\n",
    "    for k in lapacke_list:\n",
    "        body += \"    struct flexiblas_hook_fn {:s};\\n\".format(k)\n",
    "    body += \"} flexiblas_hook_t;\"\n",
    "    \n",
    "    fp = open(base + 'src/flexiblas_hook_structure.h', 'w')\n",
    "    fp.write(hooks_header.format(      body = body,\n",
    "                                       year = year,\n",
    "                                       guard_name = \"FLEXIBLAS_HOOKS_STRUCTURE_H\"))\n",
    "    fp.close()\n",
    "\n",
    "print(\"Generate Hook Structure\")\n",
    "generate_hook_structure()"
   ]
  },
  {
   "cell_type": "code",
   "execution_count": null,
   "id": "8d62ccb1-771d-46ec-a03b-1929124ee676",
   "metadata": {},
   "outputs": [],
   "source": []
  },
  {
   "cell_type": "code",
   "execution_count": null,
   "id": "8c9cd886-f985-48df-a549-254aa4d7407d",
   "metadata": {},
   "outputs": [],
   "source": []
  },
  {
   "cell_type": "code",
   "execution_count": null,
   "id": "086adc88-941f-4826-93e4-c36a34ac7ec0",
   "metadata": {},
   "outputs": [],
   "source": []
  }
 ],
 "metadata": {
  "kernelspec": {
   "display_name": "Python 3 (ipykernel)",
   "language": "python",
   "name": "python3"
  },
  "language_info": {
   "codemirror_mode": {
    "name": "ipython",
    "version": 3
   },
   "file_extension": ".py",
   "mimetype": "text/x-python",
   "name": "python",
   "nbconvert_exporter": "python",
   "pygments_lexer": "ipython3",
   "version": "3.8.10"
  }
 },
 "nbformat": 4,
 "nbformat_minor": 5
}
